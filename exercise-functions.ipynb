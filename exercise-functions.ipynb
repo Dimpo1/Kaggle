{
 "cells": [
  {
   "cell_type": "markdown",
   "id": "7c764c47",
   "metadata": {
    "papermill": {
     "duration": 0.008011,
     "end_time": "2023-05-13T12:16:28.076304",
     "exception": false,
     "start_time": "2023-05-13T12:16:28.068293",
     "status": "completed"
    },
    "tags": []
   },
   "source": [
    "**This notebook is an exercise in the [Intro to Programming](https://www.kaggle.com/learn/intro-to-programming) course.  You can reference the tutorial at [this link](https://www.kaggle.com/alexisbcook/functions).**\n",
    "\n",
    "---\n"
   ]
  },
  {
   "cell_type": "markdown",
   "id": "cd46753a",
   "metadata": {
    "papermill": {
     "duration": 0.007229,
     "end_time": "2023-05-13T12:16:28.091291",
     "exception": false,
     "start_time": "2023-05-13T12:16:28.084062",
     "status": "completed"
    },
    "tags": []
   },
   "source": [
    "In the tutorial, you learned about functions. In this exercise, you'll write some of your own!\n",
    "\n",
    "# Set up the notebook\n",
    "\n",
    "Run the next code cell without changes to set up the notebook."
   ]
  },
  {
   "cell_type": "code",
   "execution_count": 1,
   "id": "09ad1a24",
   "metadata": {
    "execution": {
     "iopub.execute_input": "2023-05-13T12:16:28.109147Z",
     "iopub.status.busy": "2023-05-13T12:16:28.108195Z",
     "iopub.status.idle": "2023-05-13T12:16:28.159940Z",
     "shell.execute_reply": "2023-05-13T12:16:28.158816Z"
    },
    "papermill": {
     "duration": 0.063492,
     "end_time": "2023-05-13T12:16:28.162399",
     "exception": false,
     "start_time": "2023-05-13T12:16:28.098907",
     "status": "completed"
    },
    "tags": []
   },
   "outputs": [
    {
     "name": "stdout",
     "output_type": "stream",
     "text": [
      "Setup complete.\n"
     ]
    }
   ],
   "source": [
    "# Set up the exercise\n",
    "import math\n",
    "from learntools.core import binder\n",
    "binder.bind(globals())\n",
    "from learntools.intro_to_programming.ex2 import *\n",
    "print('Setup complete.')"
   ]
  },
  {
   "cell_type": "markdown",
   "id": "cd689faf",
   "metadata": {
    "papermill": {
     "duration": 0.007165,
     "end_time": "2023-05-13T12:16:28.177239",
     "exception": false,
     "start_time": "2023-05-13T12:16:28.170074",
     "status": "completed"
    },
    "tags": []
   },
   "source": [
    "# Question 1\n",
    "\n",
    "In the [House Prices - Advanced Regression Techniques competition](https://www.kaggle.com/c/house-prices-advanced-regression-techniques/overview), you need to use information like the number of bedrooms and bathrooms to predict the price of a house.  Inspired by this competition, you'll write your own function to do this.\n",
    "\n",
    "In the next code cell, create a function `get_expected_cost()` that has two arguments:\n",
    "- `beds` - number of bedrooms \n",
    "- `baths` - number of bathrooms\n",
    "\n",
    "It should return the expected cost of a house with that number of bedrooms and bathrooms.  Assume that:\n",
    "- the expected cost for a house with 0 bedrooms and 0 bathrooms is `80000`.  \n",
    "- each bedroom adds `30000` to the expected cost\n",
    "- each bathroom adds `10000` to the expected cost.\n",
    "\n",
    "For instance, \n",
    "- a house with 1 bedroom and 1 bathroom has an expected cost of `120000`, and \n",
    "- a house with 2 bedrooms and 1 bathroom has an expected cost of `150000`."
   ]
  },
  {
   "cell_type": "code",
   "execution_count": 2,
   "id": "01ac704e",
   "metadata": {
    "execution": {
     "iopub.execute_input": "2023-05-13T12:16:28.194486Z",
     "iopub.status.busy": "2023-05-13T12:16:28.193840Z",
     "iopub.status.idle": "2023-05-13T12:16:28.204642Z",
     "shell.execute_reply": "2023-05-13T12:16:28.203580Z"
    },
    "papermill": {
     "duration": 0.022202,
     "end_time": "2023-05-13T12:16:28.206915",
     "exception": false,
     "start_time": "2023-05-13T12:16:28.184713",
     "status": "completed"
    },
    "tags": []
   },
   "outputs": [
    {
     "data": {
      "application/javascript": [
       "parent.postMessage({\"jupyterEvent\": \"custom.exercise_interaction\", \"data\": {\"outcomeType\": 1, \"valueTowardsCompletion\": 0.2, \"interactionType\": 1, \"questionType\": 2, \"questionId\": \"1_GetExpectedCost\", \"learnToolsVersion\": \"0.3.4\", \"failureMessage\": \"\", \"exceptionClass\": \"\", \"trace\": \"\"}}, \"*\")"
      ],
      "text/plain": [
       "<IPython.core.display.Javascript object>"
      ]
     },
     "metadata": {},
     "output_type": "display_data"
    },
    {
     "data": {
      "text/markdown": [
       "<span style=\"color:#33cc33\">Correct</span>"
      ],
      "text/plain": [
       "Correct"
      ]
     },
     "metadata": {},
     "output_type": "display_data"
    }
   ],
   "source": [
    "# TODO: Complete the function\n",
    "def get_expected_cost(beds, baths):\n",
    "    value = 80000 + (beds * 30000) + (baths * 10000)\n",
    "    return value\n",
    "\n",
    "# Check your answer \n",
    "q1.check()"
   ]
  },
  {
   "cell_type": "code",
   "execution_count": 3,
   "id": "76c20315",
   "metadata": {
    "execution": {
     "iopub.execute_input": "2023-05-13T12:16:28.224823Z",
     "iopub.status.busy": "2023-05-13T12:16:28.224397Z",
     "iopub.status.idle": "2023-05-13T12:16:28.228969Z",
     "shell.execute_reply": "2023-05-13T12:16:28.227814Z"
    },
    "papermill": {
     "duration": 0.01595,
     "end_time": "2023-05-13T12:16:28.231067",
     "exception": false,
     "start_time": "2023-05-13T12:16:28.215117",
     "status": "completed"
    },
    "tags": []
   },
   "outputs": [],
   "source": [
    "# Uncomment to see a hint\n",
    "#q1.hint()\n",
    "\n",
    "# Uncomment to view the solution\n",
    "#q1.solution()"
   ]
  },
  {
   "cell_type": "markdown",
   "id": "150e4655",
   "metadata": {
    "papermill": {
     "duration": 0.007514,
     "end_time": "2023-05-13T12:16:28.246434",
     "exception": false,
     "start_time": "2023-05-13T12:16:28.238920",
     "status": "completed"
    },
    "tags": []
   },
   "source": [
    "# Question 2\n",
    "\n",
    "You are thinking about buying a home and want to get an idea of how much you will spend, based on the number of bedrooms and bathrooms.  You are trying to decide between four different options:\n",
    "- Option 1: house with two bedrooms and three bathrooms\n",
    "- Option 2: house with three bedrooms and two bathrooms\n",
    "- Option 3: house with three bedrooms and three bathrooms\n",
    "- Option 4: house with three bedrooms and four bathrooms\n",
    "\n",
    "Use the `get_expected_cost()` function you defined in question 1 to set `option_1`, `option_2`, `option_3`, and `option_4` to the expected cost of each option."
   ]
  },
  {
   "cell_type": "code",
   "execution_count": 4,
   "id": "23319f37",
   "metadata": {
    "execution": {
     "iopub.execute_input": "2023-05-13T12:16:28.265367Z",
     "iopub.status.busy": "2023-05-13T12:16:28.264703Z",
     "iopub.status.idle": "2023-05-13T12:16:28.276086Z",
     "shell.execute_reply": "2023-05-13T12:16:28.274994Z"
    },
    "papermill": {
     "duration": 0.023597,
     "end_time": "2023-05-13T12:16:28.278413",
     "exception": false,
     "start_time": "2023-05-13T12:16:28.254816",
     "status": "completed"
    },
    "tags": []
   },
   "outputs": [
    {
     "name": "stdout",
     "output_type": "stream",
     "text": [
      "170000\n",
      "190000\n",
      "200000\n",
      "210000\n"
     ]
    },
    {
     "data": {
      "application/javascript": [
       "parent.postMessage({\"jupyterEvent\": \"custom.exercise_interaction\", \"data\": {\"outcomeType\": 1, \"valueTowardsCompletion\": 0.2, \"interactionType\": 1, \"questionType\": 1, \"questionId\": \"2_RunGetExpectedCost\", \"learnToolsVersion\": \"0.3.4\", \"failureMessage\": \"\", \"exceptionClass\": \"\", \"trace\": \"\"}}, \"*\")"
      ],
      "text/plain": [
       "<IPython.core.display.Javascript object>"
      ]
     },
     "metadata": {},
     "output_type": "display_data"
    },
    {
     "data": {
      "text/markdown": [
       "<span style=\"color:#33cc33\">Correct</span>"
      ],
      "text/plain": [
       "Correct"
      ]
     },
     "metadata": {},
     "output_type": "display_data"
    }
   ],
   "source": [
    "# TODO: Use the get_expected_cost function to fill in each value\n",
    "option_one = get_expected_cost(2, 3)\n",
    "option_two = get_expected_cost(3, 2)\n",
    "option_three = get_expected_cost(3, 3)\n",
    "option_four = get_expected_cost(3, 4)\n",
    "\n",
    "print(option_one)\n",
    "print(option_two)\n",
    "print(option_three)\n",
    "print(option_four)\n",
    "\n",
    "# Check your answer\n",
    "q2.check()"
   ]
  },
  {
   "cell_type": "code",
   "execution_count": 5,
   "id": "7c62e560",
   "metadata": {
    "execution": {
     "iopub.execute_input": "2023-05-13T12:16:28.296934Z",
     "iopub.status.busy": "2023-05-13T12:16:28.296522Z",
     "iopub.status.idle": "2023-05-13T12:16:28.300647Z",
     "shell.execute_reply": "2023-05-13T12:16:28.299746Z"
    },
    "papermill": {
     "duration": 0.016517,
     "end_time": "2023-05-13T12:16:28.303192",
     "exception": false,
     "start_time": "2023-05-13T12:16:28.286675",
     "status": "completed"
    },
    "tags": []
   },
   "outputs": [],
   "source": [
    "# Uncomment to see a hint\n",
    "#q2.hint()\n",
    "\n",
    "# Uncomment to view the solution\n",
    "#q2.solution()"
   ]
  },
  {
   "cell_type": "markdown",
   "id": "c79428d1",
   "metadata": {
    "papermill": {
     "duration": 0.008001,
     "end_time": "2023-05-13T12:16:28.319748",
     "exception": false,
     "start_time": "2023-05-13T12:16:28.311747",
     "status": "completed"
    },
    "tags": []
   },
   "source": [
    "# Question 3\n",
    "\n",
    "You're a home decorator, and you'd like to use Python to streamline some of your work.  Specifically, you're creating a tool that you intend to use to calculate the cost of painting a room.\n",
    "\n",
    "As a first step, define a function `get_cost()` that takes as input:\n",
    "- `sqft_walls` = total square feet of walls to be painted\n",
    "- `sqft_ceiling` = square feet of ceiling to be painted\n",
    "- `sqft_per_gallon` = number of square feet that you can cover with one gallon of paint\n",
    "- `cost_per_gallon` = cost (in dollars) of one gallon of paint\n",
    "\n",
    "It should return the cost (in dollars) of putting one coat of paint on all walls and the ceiling.  Assume you can buy the exact amount of paint that you need, so you can buy partial gallons (e.g., if you need 7.523 gallons, you can buy that exact amount, instead of needing to buy 8 gallons and waste some paint).  Do not round your answer."
   ]
  },
  {
   "cell_type": "code",
   "execution_count": 6,
   "id": "97600f04",
   "metadata": {
    "execution": {
     "iopub.execute_input": "2023-05-13T12:16:28.338902Z",
     "iopub.status.busy": "2023-05-13T12:16:28.338460Z",
     "iopub.status.idle": "2023-05-13T12:16:28.348180Z",
     "shell.execute_reply": "2023-05-13T12:16:28.347093Z"
    },
    "papermill": {
     "duration": 0.022319,
     "end_time": "2023-05-13T12:16:28.350451",
     "exception": false,
     "start_time": "2023-05-13T12:16:28.328132",
     "status": "completed"
    },
    "tags": []
   },
   "outputs": [
    {
     "data": {
      "application/javascript": [
       "parent.postMessage({\"jupyterEvent\": \"custom.exercise_interaction\", \"data\": {\"outcomeType\": 1, \"valueTowardsCompletion\": 0.2, \"interactionType\": 1, \"questionType\": 2, \"questionId\": \"3_GetCostPaint\", \"learnToolsVersion\": \"0.3.4\", \"failureMessage\": \"\", \"exceptionClass\": \"\", \"trace\": \"\"}}, \"*\")"
      ],
      "text/plain": [
       "<IPython.core.display.Javascript object>"
      ]
     },
     "metadata": {},
     "output_type": "display_data"
    },
    {
     "data": {
      "text/markdown": [
       "<span style=\"color:#33cc33\">Correct</span>"
      ],
      "text/plain": [
       "Correct"
      ]
     },
     "metadata": {},
     "output_type": "display_data"
    }
   ],
   "source": [
    "# TODO: Finish defining the function\n",
    "def get_cost(sqft_walls, sqft_ceiling, sqft_per_gallon, cost_per_gallon):\n",
    "    cost = (sqft_walls + sqft_ceiling ) / sqft_per_gallon * cost_per_gallon\n",
    "    return cost\n",
    "\n",
    "# Check your answer\n",
    "q3.check()"
   ]
  },
  {
   "cell_type": "code",
   "execution_count": 7,
   "id": "a9d1ba6b",
   "metadata": {
    "execution": {
     "iopub.execute_input": "2023-05-13T12:16:28.369870Z",
     "iopub.status.busy": "2023-05-13T12:16:28.369007Z",
     "iopub.status.idle": "2023-05-13T12:16:28.374056Z",
     "shell.execute_reply": "2023-05-13T12:16:28.373013Z"
    },
    "papermill": {
     "duration": 0.017253,
     "end_time": "2023-05-13T12:16:28.376400",
     "exception": false,
     "start_time": "2023-05-13T12:16:28.359147",
     "status": "completed"
    },
    "tags": []
   },
   "outputs": [],
   "source": [
    "# Uncomment to see a hint\n",
    "#q3.hint()\n",
    "\n",
    "# Uncomment to view the solution\n",
    "#q3.solution()"
   ]
  },
  {
   "cell_type": "markdown",
   "id": "5156b942",
   "metadata": {
    "papermill": {
     "duration": 0.008525,
     "end_time": "2023-05-13T12:16:28.393677",
     "exception": false,
     "start_time": "2023-05-13T12:16:28.385152",
     "status": "completed"
    },
    "tags": []
   },
   "source": [
    "# Question 4\n",
    "\n",
    "Use the `get_cost()` function you defined in Question 3 to calculate the cost of applying one coat of paint to a room with:\n",
    "- 432 square feet of walls, and\n",
    "- 144 square feet of ceiling.\n",
    "\n",
    "Assume that one gallon of paint covers 400 square feet and costs $15.  As in Question 3, assume you can buy partial gallons of paint.  Do not round your answer."
   ]
  },
  {
   "cell_type": "code",
   "execution_count": 8,
   "id": "11d08c1b",
   "metadata": {
    "execution": {
     "iopub.execute_input": "2023-05-13T12:16:28.412942Z",
     "iopub.status.busy": "2023-05-13T12:16:28.412512Z",
     "iopub.status.idle": "2023-05-13T12:16:28.421586Z",
     "shell.execute_reply": "2023-05-13T12:16:28.420727Z"
    },
    "papermill": {
     "duration": 0.021324,
     "end_time": "2023-05-13T12:16:28.423829",
     "exception": false,
     "start_time": "2023-05-13T12:16:28.402505",
     "status": "completed"
    },
    "tags": []
   },
   "outputs": [
    {
     "data": {
      "application/javascript": [
       "parent.postMessage({\"jupyterEvent\": \"custom.exercise_interaction\", \"data\": {\"outcomeType\": 1, \"valueTowardsCompletion\": 0.2, \"interactionType\": 1, \"questionType\": 1, \"questionId\": \"4_GetCostPaintExample\", \"learnToolsVersion\": \"0.3.4\", \"failureMessage\": \"\", \"exceptionClass\": \"\", \"trace\": \"\"}}, \"*\")"
      ],
      "text/plain": [
       "<IPython.core.display.Javascript object>"
      ]
     },
     "metadata": {},
     "output_type": "display_data"
    },
    {
     "data": {
      "text/markdown": [
       "<span style=\"color:#33cc33\">Correct</span>"
      ],
      "text/plain": [
       "Correct"
      ]
     },
     "metadata": {},
     "output_type": "display_data"
    }
   ],
   "source": [
    "# TODO: Set the project_cost variable to the cost of the project\n",
    "project_cost = get_cost(432, 144,400, 15)\n",
    "\n",
    "# Check your answer\n",
    "q4.check()"
   ]
  },
  {
   "cell_type": "code",
   "execution_count": 9,
   "id": "17cd63ad",
   "metadata": {
    "execution": {
     "iopub.execute_input": "2023-05-13T12:16:28.443679Z",
     "iopub.status.busy": "2023-05-13T12:16:28.443272Z",
     "iopub.status.idle": "2023-05-13T12:16:28.447829Z",
     "shell.execute_reply": "2023-05-13T12:16:28.446679Z"
    },
    "papermill": {
     "duration": 0.017286,
     "end_time": "2023-05-13T12:16:28.450051",
     "exception": false,
     "start_time": "2023-05-13T12:16:28.432765",
     "status": "completed"
    },
    "tags": []
   },
   "outputs": [],
   "source": [
    "# Uncomment to see a hint\n",
    "#q4.hint()\n",
    "\n",
    "# Uncomment to view the solution\n",
    "#q4.solution()"
   ]
  },
  {
   "cell_type": "markdown",
   "id": "8c0e49db",
   "metadata": {
    "papermill": {
     "duration": 0.008728,
     "end_time": "2023-05-13T12:16:28.467837",
     "exception": false,
     "start_time": "2023-05-13T12:16:28.459109",
     "status": "completed"
    },
    "tags": []
   },
   "source": [
    "# 🌶️ Question 5\n",
    "\n",
    "Now say you can no longer buy fractions of a gallon.  (For instance, if you need 4.3 gallons to do a project, then you have to buy 5 gallons of paint.)\n",
    "\n",
    "With this new scenario, you will create a new function `get_actual_cost` that uses the same inputs and calculates the cost of your project.\n",
    "\n",
    "One function that you'll need to use to do this is `math.ceil()`.  We demonstrate usage of this function in the code cell below.  It takes as a number as input and rounds the number up to the nearest integer.  \n",
    "\n",
    "Run the next code cell to test this function for yourself.  Feel free to change the value of `test_value` and make sure `math.ceil()` returns the number you expect."
   ]
  },
  {
   "cell_type": "code",
   "execution_count": 10,
   "id": "a14940cf",
   "metadata": {
    "execution": {
     "iopub.execute_input": "2023-05-13T12:16:28.487733Z",
     "iopub.status.busy": "2023-05-13T12:16:28.487323Z",
     "iopub.status.idle": "2023-05-13T12:16:28.492826Z",
     "shell.execute_reply": "2023-05-13T12:16:28.492044Z"
    },
    "papermill": {
     "duration": 0.018019,
     "end_time": "2023-05-13T12:16:28.494962",
     "exception": false,
     "start_time": "2023-05-13T12:16:28.476943",
     "status": "completed"
    },
    "tags": []
   },
   "outputs": [
    {
     "name": "stdout",
     "output_type": "stream",
     "text": [
      "3\n"
     ]
    }
   ],
   "source": [
    "test_value = 2.17\n",
    "\n",
    "rounded_value = math.ceil(test_value)\n",
    "print(rounded_value)"
   ]
  },
  {
   "cell_type": "markdown",
   "id": "296d07db",
   "metadata": {
    "papermill": {
     "duration": 0.008936,
     "end_time": "2023-05-13T12:16:28.513098",
     "exception": false,
     "start_time": "2023-05-13T12:16:28.504162",
     "status": "completed"
    },
    "tags": []
   },
   "source": [
    "Use the next code cell to define the function `get_actual_cost()`.  You'll need to use the `math.ceil()` function to do this.\n",
    "\n",
    "When answering this question, note that it's completely valid to define a function that makes use of another function.  For instance, we can define a function `round_up_and_divide_by_three` that makes use of the `math.ceil` function:\n",
    "```\n",
    "def round_up_and_divide_by_three(num):\n",
    "    new_value = math.ceil(num)\n",
    "    final_value = new_value / 3\n",
    "    return final_value\n",
    "```"
   ]
  },
  {
   "cell_type": "code",
   "execution_count": 11,
   "id": "e25f69e2",
   "metadata": {
    "execution": {
     "iopub.execute_input": "2023-05-13T12:16:28.533504Z",
     "iopub.status.busy": "2023-05-13T12:16:28.533089Z",
     "iopub.status.idle": "2023-05-13T12:16:28.543186Z",
     "shell.execute_reply": "2023-05-13T12:16:28.542119Z"
    },
    "papermill": {
     "duration": 0.02312,
     "end_time": "2023-05-13T12:16:28.545370",
     "exception": false,
     "start_time": "2023-05-13T12:16:28.522250",
     "status": "completed"
    },
    "tags": []
   },
   "outputs": [
    {
     "data": {
      "application/javascript": [
       "parent.postMessage({\"jupyterEvent\": \"custom.exercise_interaction\", \"data\": {\"outcomeType\": 1, \"valueTowardsCompletion\": 0.2, \"interactionType\": 1, \"questionType\": 2, \"questionId\": \"5_NoMoreFractions\", \"learnToolsVersion\": \"0.3.4\", \"failureMessage\": \"\", \"exceptionClass\": \"\", \"trace\": \"\"}}, \"*\")"
      ],
      "text/plain": [
       "<IPython.core.display.Javascript object>"
      ]
     },
     "metadata": {},
     "output_type": "display_data"
    },
    {
     "data": {
      "text/markdown": [
       "<span style=\"color:#33cc33\">Correct</span>"
      ],
      "text/plain": [
       "Correct"
      ]
     },
     "metadata": {},
     "output_type": "display_data"
    }
   ],
   "source": [
    "def get_actual_cost(sqft_walls, sqft_ceiling, sqft_per_gallon, cost_per_gallon):\n",
    "    total_sqft = sqft_walls + sqft_ceiling\n",
    "    gallons_needed = total_sqft / sqft_per_gallon\n",
    "    gallons_to_buy = math.ceil(gallons_needed)\n",
    "    cost = cost_per_gallon * gallons_to_buy\n",
    "    return cost\n",
    "\n",
    "# Check your answer\n",
    "q5.check()"
   ]
  },
  {
   "cell_type": "code",
   "execution_count": 12,
   "id": "a4edfd0b",
   "metadata": {
    "execution": {
     "iopub.execute_input": "2023-05-13T12:16:28.566740Z",
     "iopub.status.busy": "2023-05-13T12:16:28.566320Z",
     "iopub.status.idle": "2023-05-13T12:16:28.578816Z",
     "shell.execute_reply": "2023-05-13T12:16:28.577500Z"
    },
    "papermill": {
     "duration": 0.026206,
     "end_time": "2023-05-13T12:16:28.581238",
     "exception": false,
     "start_time": "2023-05-13T12:16:28.555032",
     "status": "completed"
    },
    "tags": []
   },
   "outputs": [
    {
     "data": {
      "application/javascript": [
       "parent.postMessage({\"jupyterEvent\": \"custom.exercise_interaction\", \"data\": {\"interactionType\": 2, \"questionType\": 2, \"questionId\": \"5_NoMoreFractions\", \"learnToolsVersion\": \"0.3.4\", \"valueTowardsCompletion\": 0.0, \"failureMessage\": \"\", \"exceptionClass\": \"\", \"trace\": \"\", \"outcomeType\": 4}}, \"*\")"
      ],
      "text/plain": [
       "<IPython.core.display.Javascript object>"
      ]
     },
     "metadata": {},
     "output_type": "display_data"
    },
    {
     "data": {
      "text/markdown": [
       "<span style=\"color:#3366cc\">Hint:</span> Begin with the `get_cost()` function as a starting point.  The only change you need to make is to add `math.ceil()` to round up the number of gallons that need to be purchased. Can you figure out where to add it to the function?"
      ],
      "text/plain": [
       "Hint: Begin with the `get_cost()` function as a starting point.  The only change you need to make is to add `math.ceil()` to round up the number of gallons that need to be purchased. Can you figure out where to add it to the function?"
      ]
     },
     "metadata": {},
     "output_type": "display_data"
    },
    {
     "data": {
      "application/javascript": [
       "parent.postMessage({\"jupyterEvent\": \"custom.exercise_interaction\", \"data\": {\"interactionType\": 3, \"questionType\": 2, \"questionId\": \"5_NoMoreFractions\", \"learnToolsVersion\": \"0.3.4\", \"valueTowardsCompletion\": 0.0, \"failureMessage\": \"\", \"exceptionClass\": \"\", \"trace\": \"\", \"outcomeType\": 4}}, \"*\")"
      ],
      "text/plain": [
       "<IPython.core.display.Javascript object>"
      ]
     },
     "metadata": {},
     "output_type": "display_data"
    },
    {
     "data": {
      "text/markdown": [
       "<span style=\"color:#33cc99\">Solution:</span> \n",
       "```python\n",
       "def get_actual_cost(sqft_walls, sqft_ceiling, sqft_per_gallon, cost_per_gallon):\n",
       "    total_sqft = sqft_walls + sqft_ceiling\n",
       "    gallons_needed = total_sqft / sqft_per_gallon\n",
       "    gallons_to_buy = math.ceil(gallons_needed)\n",
       "    cost = cost_per_gallon * gallons_to_buy\n",
       "    return cost\n",
       "\n",
       "```"
      ],
      "text/plain": [
       "Solution: \n",
       "```python\n",
       "def get_actual_cost(sqft_walls, sqft_ceiling, sqft_per_gallon, cost_per_gallon):\n",
       "    total_sqft = sqft_walls + sqft_ceiling\n",
       "    gallons_needed = total_sqft / sqft_per_gallon\n",
       "    gallons_to_buy = math.ceil(gallons_needed)\n",
       "    cost = cost_per_gallon * gallons_to_buy\n",
       "    return cost\n",
       "\n",
       "```"
      ]
     },
     "metadata": {},
     "output_type": "display_data"
    }
   ],
   "source": [
    "# Uncomment to see a hint\n",
    "q5.hint()\n",
    "\n",
    "# Uncomment to view the solution\n",
    "q5.solution()"
   ]
  },
  {
   "cell_type": "markdown",
   "id": "8ce4acc0",
   "metadata": {
    "papermill": {
     "duration": 0.010084,
     "end_time": "2023-05-13T12:16:28.601533",
     "exception": false,
     "start_time": "2023-05-13T12:16:28.591449",
     "status": "completed"
    },
    "tags": []
   },
   "source": [
    "Once your function is verified as correct, run the next code cell to calculate the updated cost of your project."
   ]
  },
  {
   "cell_type": "code",
   "execution_count": 13,
   "id": "f460b5e9",
   "metadata": {
    "execution": {
     "iopub.execute_input": "2023-05-13T12:16:28.624073Z",
     "iopub.status.busy": "2023-05-13T12:16:28.623626Z",
     "iopub.status.idle": "2023-05-13T12:16:28.630382Z",
     "shell.execute_reply": "2023-05-13T12:16:28.629563Z"
    },
    "papermill": {
     "duration": 0.020343,
     "end_time": "2023-05-13T12:16:28.632458",
     "exception": false,
     "start_time": "2023-05-13T12:16:28.612115",
     "status": "completed"
    },
    "tags": []
   },
   "outputs": [
    {
     "data": {
      "text/plain": [
       "30"
      ]
     },
     "execution_count": 13,
     "metadata": {},
     "output_type": "execute_result"
    }
   ],
   "source": [
    "get_actual_cost(432, 144, 400, 15) "
   ]
  },
  {
   "cell_type": "markdown",
   "id": "69974277",
   "metadata": {
    "papermill": {
     "duration": 0.010333,
     "end_time": "2023-05-13T12:16:28.653279",
     "exception": false,
     "start_time": "2023-05-13T12:16:28.642946",
     "status": "completed"
    },
    "tags": []
   },
   "source": [
    "Say you're working with a slightly larger room.  Run the next code cell to calculate the cost of the project."
   ]
  },
  {
   "cell_type": "code",
   "execution_count": 14,
   "id": "f0a81a49",
   "metadata": {
    "execution": {
     "iopub.execute_input": "2023-05-13T12:16:28.676158Z",
     "iopub.status.busy": "2023-05-13T12:16:28.675746Z",
     "iopub.status.idle": "2023-05-13T12:16:28.682914Z",
     "shell.execute_reply": "2023-05-13T12:16:28.681912Z"
    },
    "papermill": {
     "duration": 0.021644,
     "end_time": "2023-05-13T12:16:28.685137",
     "exception": false,
     "start_time": "2023-05-13T12:16:28.663493",
     "status": "completed"
    },
    "tags": []
   },
   "outputs": [
    {
     "data": {
      "text/plain": [
       "45"
      ]
     },
     "execution_count": 14,
     "metadata": {},
     "output_type": "execute_result"
    }
   ],
   "source": [
    "get_actual_cost(594, 288, 400, 15) "
   ]
  },
  {
   "cell_type": "markdown",
   "id": "298285d5",
   "metadata": {
    "papermill": {
     "duration": 0.01036,
     "end_time": "2023-05-13T12:16:28.706103",
     "exception": false,
     "start_time": "2023-05-13T12:16:28.695743",
     "status": "completed"
    },
    "tags": []
   },
   "source": [
    "# Keep going\n",
    "\n",
    "Continue to learn about **[data types](https://www.kaggle.com/alexisbcook/data-types)**."
   ]
  },
  {
   "cell_type": "markdown",
   "id": "e55bc3e2",
   "metadata": {
    "papermill": {
     "duration": 0.010159,
     "end_time": "2023-05-13T12:16:28.727134",
     "exception": false,
     "start_time": "2023-05-13T12:16:28.716975",
     "status": "completed"
    },
    "tags": []
   },
   "source": [
    "---\n",
    "\n",
    "\n",
    "\n",
    "\n",
    "*Have questions or comments? Visit the [course discussion forum](https://www.kaggle.com/learn/intro-to-programming/discussion) to chat with other learners.*"
   ]
  }
 ],
 "metadata": {
  "kernelspec": {
   "display_name": "Python 3",
   "language": "python",
   "name": "python3"
  },
  "language_info": {
   "codemirror_mode": {
    "name": "ipython",
    "version": 3
   },
   "file_extension": ".py",
   "mimetype": "text/x-python",
   "name": "python",
   "nbconvert_exporter": "python",
   "pygments_lexer": "ipython3",
   "version": "3.10.10"
  },
  "papermill": {
   "default_parameters": {},
   "duration": 13.560772,
   "end_time": "2023-05-13T12:16:29.559346",
   "environment_variables": {},
   "exception": null,
   "input_path": "__notebook__.ipynb",
   "output_path": "__notebook__.ipynb",
   "parameters": {},
   "start_time": "2023-05-13T12:16:15.998574",
   "version": "2.4.0"
  }
 },
 "nbformat": 4,
 "nbformat_minor": 5
}

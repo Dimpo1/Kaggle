{
 "cells": [
  {
   "cell_type": "markdown",
   "id": "513dff06",
   "metadata": {
    "papermill": {
     "duration": 0.009677,
     "end_time": "2023-05-13T12:17:16.254314",
     "exception": false,
     "start_time": "2023-05-13T12:17:16.244637",
     "status": "completed"
    },
    "tags": []
   },
   "source": [
    "**This notebook is an exercise in the [Intro to Programming](https://www.kaggle.com/learn/intro-to-programming) course.  You can reference the tutorial at [this link](https://www.kaggle.com/alexisbcook/data-types).**\n",
    "\n",
    "---\n"
   ]
  },
  {
   "cell_type": "markdown",
   "id": "2484c5e9",
   "metadata": {
    "papermill": {
     "duration": 0.008369,
     "end_time": "2023-05-13T12:17:16.271416",
     "exception": false,
     "start_time": "2023-05-13T12:17:16.263047",
     "status": "completed"
    },
    "tags": []
   },
   "source": [
    "In the tutorial, you learned about four different data types: floats, integers, strings, and booleans.  In this exercise, you'll experiment with them.\n",
    "\n",
    "# Set up the notebook\n",
    "\n",
    "Run the next code cell without changes to set up the notebook."
   ]
  },
  {
   "cell_type": "code",
   "execution_count": 1,
   "id": "1731a75f",
   "metadata": {
    "execution": {
     "iopub.execute_input": "2023-05-13T12:17:16.290853Z",
     "iopub.status.busy": "2023-05-13T12:17:16.290344Z",
     "iopub.status.idle": "2023-05-13T12:17:16.344522Z",
     "shell.execute_reply": "2023-05-13T12:17:16.343648Z"
    },
    "papermill": {
     "duration": 0.067114,
     "end_time": "2023-05-13T12:17:16.347138",
     "exception": false,
     "start_time": "2023-05-13T12:17:16.280024",
     "status": "completed"
    },
    "tags": []
   },
   "outputs": [
    {
     "name": "stdout",
     "output_type": "stream",
     "text": [
      "Setup complete.\n"
     ]
    }
   ],
   "source": [
    "# Set up the exercise\n",
    "from learntools.core import binder\n",
    "binder.bind(globals())\n",
    "from learntools.intro_to_programming.ex3 import *\n",
    "print('Setup complete.')"
   ]
  },
  {
   "cell_type": "markdown",
   "id": "00d63cf6",
   "metadata": {
    "papermill": {
     "duration": 0.008533,
     "end_time": "2023-05-13T12:17:16.364431",
     "exception": false,
     "start_time": "2023-05-13T12:17:16.355898",
     "status": "completed"
    },
    "tags": []
   },
   "source": [
    "# Question 1\n",
    "\n",
    "You have seen how to convert a float to an integer with the `int` function.  Try this out yourself by running the code cell below."
   ]
  },
  {
   "cell_type": "code",
   "execution_count": 2,
   "id": "fabf605f",
   "metadata": {
    "execution": {
     "iopub.execute_input": "2023-05-13T12:17:16.383449Z",
     "iopub.status.busy": "2023-05-13T12:17:16.382982Z",
     "iopub.status.idle": "2023-05-13T12:17:16.389586Z",
     "shell.execute_reply": "2023-05-13T12:17:16.388343Z"
    },
    "papermill": {
     "duration": 0.019317,
     "end_time": "2023-05-13T12:17:16.392426",
     "exception": false,
     "start_time": "2023-05-13T12:17:16.373109",
     "status": "completed"
    },
    "tags": []
   },
   "outputs": [
    {
     "name": "stdout",
     "output_type": "stream",
     "text": [
      "1.0\n",
      "<class 'float'>\n",
      "1\n",
      "<class 'int'>\n"
     ]
    }
   ],
   "source": [
    "# Define a float\n",
    "y = 1.\n",
    "print(y)\n",
    "print(type(y))\n",
    "\n",
    "# Convert float to integer with the int function\n",
    "z = int(y)\n",
    "print(z)\n",
    "print(type(z))"
   ]
  },
  {
   "cell_type": "markdown",
   "id": "c09d338b",
   "metadata": {
    "papermill": {
     "duration": 0.008506,
     "end_time": "2023-05-13T12:17:16.409695",
     "exception": false,
     "start_time": "2023-05-13T12:17:16.401189",
     "status": "completed"
    },
    "tags": []
   },
   "source": [
    "In this case, the float you are using has no numbers after the decimal.  \n",
    "- But what happens when you try to convert a float with a fractional part to an integer?  \n",
    "- How does the outcome of the `int` function change for positive and negative numbers?\n",
    "\n",
    "Use the next code cell to investigate and answer these questions.  Feel free to add or remove any lines of code -- it is your workspace!"
   ]
  },
  {
   "cell_type": "code",
   "execution_count": 3,
   "id": "8968db59",
   "metadata": {
    "execution": {
     "iopub.execute_input": "2023-05-13T12:17:16.428909Z",
     "iopub.status.busy": "2023-05-13T12:17:16.428514Z",
     "iopub.status.idle": "2023-05-13T12:17:16.435357Z",
     "shell.execute_reply": "2023-05-13T12:17:16.434177Z"
    },
    "papermill": {
     "duration": 0.019744,
     "end_time": "2023-05-13T12:17:16.438197",
     "exception": false,
     "start_time": "2023-05-13T12:17:16.418453",
     "status": "completed"
    },
    "tags": []
   },
   "outputs": [
    {
     "name": "stdout",
     "output_type": "stream",
     "text": [
      "1\n",
      "1\n",
      "-3\n",
      "-2\n"
     ]
    }
   ],
   "source": [
    "# Uncomment and run this code to get started!\n",
    "print(int(1.2321))\n",
    "print(int(1.747))\n",
    "print(int(-3.94535))\n",
    "print(int(-2.19774))"
   ]
  },
  {
   "cell_type": "markdown",
   "id": "36bb7710",
   "metadata": {
    "papermill": {
     "duration": 0.008784,
     "end_time": "2023-05-13T12:17:16.455966",
     "exception": false,
     "start_time": "2023-05-13T12:17:16.447182",
     "status": "completed"
    },
    "tags": []
   },
   "source": [
    "Once you have an answer, run the code cell below to see the solution.  Viewing the solution will give you credit for answering the problem."
   ]
  },
  {
   "cell_type": "code",
   "execution_count": 4,
   "id": "e8fd4ca8",
   "metadata": {
    "execution": {
     "iopub.execute_input": "2023-05-13T12:17:16.475304Z",
     "iopub.status.busy": "2023-05-13T12:17:16.474908Z",
     "iopub.status.idle": "2023-05-13T12:17:16.485541Z",
     "shell.execute_reply": "2023-05-13T12:17:16.484342Z"
    },
    "papermill": {
     "duration": 0.022854,
     "end_time": "2023-05-13T12:17:16.487664",
     "exception": false,
     "start_time": "2023-05-13T12:17:16.464810",
     "status": "completed"
    },
    "tags": []
   },
   "outputs": [
    {
     "data": {
      "application/javascript": [
       "parent.postMessage({\"jupyterEvent\": \"custom.exercise_interaction\", \"data\": {\"outcomeType\": 1, \"valueTowardsCompletion\": 0.2, \"interactionType\": 1, \"questionType\": 4, \"questionId\": \"1_FloatToInt\", \"learnToolsVersion\": \"0.3.4\", \"failureMessage\": \"\", \"exceptionClass\": \"\", \"trace\": \"\"}}, \"*\")"
      ],
      "text/plain": [
       "<IPython.core.display.Javascript object>"
      ]
     },
     "metadata": {},
     "output_type": "display_data"
    },
    {
     "data": {
      "text/markdown": [
       "<span style=\"color:#33cc33\">Correct:</span> \n",
       "\n",
       "Negative floats are always rounded UP to the closest integer (for instance, both -1.1 and -1.9 are rounded up to -1). Positive floats are always rounded DOWN to the closest integer (for instance, 2.1 and 2.9 are rounded down to 2)."
      ],
      "text/plain": [
       "Correct: \n",
       "\n",
       "Negative floats are always rounded UP to the closest integer (for instance, both -1.1 and -1.9 are rounded up to -1). Positive floats are always rounded DOWN to the closest integer (for instance, 2.1 and 2.9 are rounded down to 2)."
      ]
     },
     "metadata": {},
     "output_type": "display_data"
    }
   ],
   "source": [
    "# Check your answer (Run this code cell to receive credit!)\n",
    "q1.check()"
   ]
  },
  {
   "cell_type": "markdown",
   "id": "877aed7c",
   "metadata": {
    "papermill": {
     "duration": 0.008865,
     "end_time": "2023-05-13T12:17:16.505753",
     "exception": false,
     "start_time": "2023-05-13T12:17:16.496888",
     "status": "completed"
    },
    "tags": []
   },
   "source": [
    "# Question 2\n",
    "\n",
    "In the tutorial, you learned about booleans (which can take a value of `True` or `False`), in addition to integers, floats, and strings.  For this question, your goal is to determine what happens when you multiply a boolean by any of these data types.  Specifically, \n",
    "- What happens when you multiply an integer or float by `True`?  What happens when you multiply them by `False`?  How does the answer change if the numbers are positive or negative?\n",
    "- What happens when you multiply a string by `True`?  By `False`?\n",
    "\n",
    "Use the next code cell for your investigation. "
   ]
  },
  {
   "cell_type": "code",
   "execution_count": 5,
   "id": "9de50dbe",
   "metadata": {
    "execution": {
     "iopub.execute_input": "2023-05-13T12:17:16.525752Z",
     "iopub.status.busy": "2023-05-13T12:17:16.525381Z",
     "iopub.status.idle": "2023-05-13T12:17:16.531800Z",
     "shell.execute_reply": "2023-05-13T12:17:16.530601Z"
    },
    "papermill": {
     "duration": 0.019401,
     "end_time": "2023-05-13T12:17:16.534240",
     "exception": false,
     "start_time": "2023-05-13T12:17:16.514839",
     "status": "completed"
    },
    "tags": []
   },
   "outputs": [
    {
     "name": "stdout",
     "output_type": "stream",
     "text": [
      "3\n",
      "-3.1\n",
      "<class 'str'>\n",
      "0\n"
     ]
    }
   ],
   "source": [
    "# Uncomment and run this code to get started!\n",
    "print(3 * True)\n",
    "print(-3.1 * True)\n",
    "print(type(\"abc\" * False))\n",
    "print(len(\"abc\" * False))"
   ]
  },
  {
   "cell_type": "markdown",
   "id": "54156a58",
   "metadata": {
    "papermill": {
     "duration": 0.00891,
     "end_time": "2023-05-13T12:17:16.552360",
     "exception": false,
     "start_time": "2023-05-13T12:17:16.543450",
     "status": "completed"
    },
    "tags": []
   },
   "source": [
    "Once you have an answer, run the code cell below to see the solution.  Viewing the solution will give you credit for answering the problem."
   ]
  },
  {
   "cell_type": "code",
   "execution_count": 6,
   "id": "8ad3ebbb",
   "metadata": {
    "execution": {
     "iopub.execute_input": "2023-05-13T12:17:16.572665Z",
     "iopub.status.busy": "2023-05-13T12:17:16.572255Z",
     "iopub.status.idle": "2023-05-13T12:17:16.580618Z",
     "shell.execute_reply": "2023-05-13T12:17:16.579332Z"
    },
    "papermill": {
     "duration": 0.021351,
     "end_time": "2023-05-13T12:17:16.582833",
     "exception": false,
     "start_time": "2023-05-13T12:17:16.561482",
     "status": "completed"
    },
    "tags": []
   },
   "outputs": [
    {
     "data": {
      "application/javascript": [
       "parent.postMessage({\"jupyterEvent\": \"custom.exercise_interaction\", \"data\": {\"outcomeType\": 1, \"valueTowardsCompletion\": 0.2, \"interactionType\": 1, \"questionType\": 4, \"questionId\": \"2_MultiplyBooleans\", \"learnToolsVersion\": \"0.3.4\", \"failureMessage\": \"\", \"exceptionClass\": \"\", \"trace\": \"\"}}, \"*\")"
      ],
      "text/plain": [
       "<IPython.core.display.Javascript object>"
      ]
     },
     "metadata": {},
     "output_type": "display_data"
    },
    {
     "data": {
      "text/markdown": [
       "<span style=\"color:#33cc33\">Correct:</span> \n",
       "\n",
       "When you multiple an integer or float by a boolean with value `True`, it just returns that same integer or float (and is equivalent to multiplying by 1).  If you multiply an integer or float by a boolean with value `False`, it always returns 0.  This is true for both positive and negative numbers.  If you multiply a string by a boolean with value `True`, it just returns that same string.  And if you multiply a string by a boolean with value `False`, it returns an empty string (or a string with length zero)."
      ],
      "text/plain": [
       "Correct: \n",
       "\n",
       "When you multiple an integer or float by a boolean with value `True`, it just returns that same integer or float (and is equivalent to multiplying by 1).  If you multiply an integer or float by a boolean with value `False`, it always returns 0.  This is true for both positive and negative numbers.  If you multiply a string by a boolean with value `True`, it just returns that same string.  And if you multiply a string by a boolean with value `False`, it returns an empty string (or a string with length zero)."
      ]
     },
     "metadata": {},
     "output_type": "display_data"
    }
   ],
   "source": [
    "# Check your answer (Run this code cell to receive credit!)\n",
    "q2.check()"
   ]
  },
  {
   "cell_type": "markdown",
   "id": "4fbc7462",
   "metadata": {
    "papermill": {
     "duration": 0.009346,
     "end_time": "2023-05-13T12:17:16.601901",
     "exception": false,
     "start_time": "2023-05-13T12:17:16.592555",
     "status": "completed"
    },
    "tags": []
   },
   "source": [
    "# Question 3\n",
    "\n",
    "In this question, you will build off your work from the previous exercise to write a function that estimates the value of a house.\n",
    "\n",
    "Use the next code cell to create a function `get_expected_cost` that takes as input three variables:\n",
    "- `beds` - number of bedrooms (data type float)\n",
    "- `baths` - number of bathrooms (data type float)\n",
    "- `has_basement` - whether or not the house has a basement (data type boolean)\n",
    "\n",
    "It should return the expected cost of a house with those characteristics. Assume that:\n",
    "- the expected cost for a house with 0 bedrooms and 0 bathrooms, and no basement is 80000, \n",
    "- each bedroom adds 30000 to the expected cost,\n",
    "- each bathroom adds 10000 to the expected cost, and\n",
    "- a basement adds 40000 to the expected cost.\n",
    "\n",
    "For instance,\n",
    "- a house with 1 bedroom, 1 bathroom, and no basement has an expected cost of 80000 + 30000 + 10000 = 120000.  This value will be calculated with `get_expected_cost(1, 1, False)`.\n",
    "- a house with 2 bedrooms, 1 bathroom, and a basement has an expected cost of 80000 + 2*30000 + 10000 + 40000 = 190000.  This value will be calculated with `get_expected_cost(2, 1, True)`.\n",
    "\n",
    "Remember you can always get a hint by uncommenting `q3.hint()` in the code cell following the next!"
   ]
  },
  {
   "cell_type": "code",
   "execution_count": 7,
   "id": "829d0017",
   "metadata": {
    "execution": {
     "iopub.execute_input": "2023-05-13T12:17:16.622685Z",
     "iopub.status.busy": "2023-05-13T12:17:16.622250Z",
     "iopub.status.idle": "2023-05-13T12:17:16.632307Z",
     "shell.execute_reply": "2023-05-13T12:17:16.631195Z"
    },
    "papermill": {
     "duration": 0.02315,
     "end_time": "2023-05-13T12:17:16.634586",
     "exception": false,
     "start_time": "2023-05-13T12:17:16.611436",
     "status": "completed"
    },
    "tags": []
   },
   "outputs": [
    {
     "data": {
      "application/javascript": [
       "parent.postMessage({\"jupyterEvent\": \"custom.exercise_interaction\", \"data\": {\"outcomeType\": 1, \"valueTowardsCompletion\": 0.2, \"interactionType\": 1, \"questionType\": 2, \"questionId\": \"3_EstimateHouseValueBool\", \"learnToolsVersion\": \"0.3.4\", \"failureMessage\": \"\", \"exceptionClass\": \"\", \"trace\": \"\"}}, \"*\")"
      ],
      "text/plain": [
       "<IPython.core.display.Javascript object>"
      ]
     },
     "metadata": {},
     "output_type": "display_data"
    },
    {
     "data": {
      "text/markdown": [
       "<span style=\"color:#33cc33\">Correct</span>"
      ],
      "text/plain": [
       "Correct"
      ]
     },
     "metadata": {},
     "output_type": "display_data"
    }
   ],
   "source": [
    "# TODO: Complete the function\n",
    "def get_expected_cost(beds, baths, has_basement):\n",
    "    value = 80000 + 30000 * beds + 10000 * baths + 40000 * has_basement\n",
    "    return value\n",
    "\n",
    "# Check your answer \n",
    "q3.check()"
   ]
  },
  {
   "cell_type": "code",
   "execution_count": 8,
   "id": "09d71456",
   "metadata": {
    "execution": {
     "iopub.execute_input": "2023-05-13T12:17:16.656942Z",
     "iopub.status.busy": "2023-05-13T12:17:16.656518Z",
     "iopub.status.idle": "2023-05-13T12:17:16.666949Z",
     "shell.execute_reply": "2023-05-13T12:17:16.665874Z"
    },
    "papermill": {
     "duration": 0.024708,
     "end_time": "2023-05-13T12:17:16.669144",
     "exception": false,
     "start_time": "2023-05-13T12:17:16.644436",
     "status": "completed"
    },
    "tags": []
   },
   "outputs": [
    {
     "data": {
      "application/javascript": [
       "parent.postMessage({\"jupyterEvent\": \"custom.exercise_interaction\", \"data\": {\"outcomeType\": 1, \"valueTowardsCompletion\": 0.2, \"interactionType\": 1, \"questionType\": 2, \"questionId\": \"3_EstimateHouseValueBool\", \"learnToolsVersion\": \"0.3.4\", \"failureMessage\": \"\", \"exceptionClass\": \"\", \"trace\": \"\"}}, \"*\")"
      ],
      "text/plain": [
       "<IPython.core.display.Javascript object>"
      ]
     },
     "metadata": {},
     "output_type": "display_data"
    },
    {
     "data": {
      "text/markdown": [
       "<span style=\"color:#33cc33\">Correct</span>"
      ],
      "text/plain": [
       "Correct"
      ]
     },
     "metadata": {},
     "output_type": "display_data"
    }
   ],
   "source": [
    "# TODO: Complete the function\n",
    "def get_expected_cost(beds, baths, has_basement):\n",
    "    value = 80000 + 30000 * beds + 10000 * baths + 40000 * has_basement\n",
    "    return value\n",
    "\n",
    "# Check your answer \n",
    "q3.check()"
   ]
  },
  {
   "cell_type": "code",
   "execution_count": 9,
   "id": "5a52819f",
   "metadata": {
    "execution": {
     "iopub.execute_input": "2023-05-13T12:17:16.691304Z",
     "iopub.status.busy": "2023-05-13T12:17:16.690883Z",
     "iopub.status.idle": "2023-05-13T12:17:16.695759Z",
     "shell.execute_reply": "2023-05-13T12:17:16.694658Z"
    },
    "papermill": {
     "duration": 0.018619,
     "end_time": "2023-05-13T12:17:16.697986",
     "exception": false,
     "start_time": "2023-05-13T12:17:16.679367",
     "status": "completed"
    },
    "tags": []
   },
   "outputs": [],
   "source": [
    "# Uncomment to see a hint\n",
    "#q3.hint()\n",
    "\n",
    "# Uncomment to view the solution\n",
    "#q3.solution()"
   ]
  },
  {
   "cell_type": "markdown",
   "id": "ef003ae1",
   "metadata": {
    "papermill": {
     "duration": 0.009797,
     "end_time": "2023-05-13T12:17:16.718184",
     "exception": false,
     "start_time": "2023-05-13T12:17:16.708387",
     "status": "completed"
    },
    "tags": []
   },
   "source": [
    "# Question 4\n",
    "\n",
    "We'll continue our study of boolean arithmetic.  For this question, your task is to provide a description of what happpens when you add booleans. \n",
    "\n",
    "Use the next code cell for your investigation.  Feel free to add or remove any lines of code - use it as your workspace!"
   ]
  },
  {
   "cell_type": "code",
   "execution_count": 10,
   "id": "238ba955",
   "metadata": {
    "execution": {
     "iopub.execute_input": "2023-05-13T12:17:16.740511Z",
     "iopub.status.busy": "2023-05-13T12:17:16.740116Z",
     "iopub.status.idle": "2023-05-13T12:17:16.746158Z",
     "shell.execute_reply": "2023-05-13T12:17:16.745081Z"
    },
    "papermill": {
     "duration": 0.020535,
     "end_time": "2023-05-13T12:17:16.748910",
     "exception": false,
     "start_time": "2023-05-13T12:17:16.728375",
     "status": "completed"
    },
    "tags": []
   },
   "outputs": [
    {
     "name": "stdout",
     "output_type": "stream",
     "text": [
      "0\n",
      "1\n",
      "1\n",
      "2\n",
      "3\n"
     ]
    }
   ],
   "source": [
    "print(False + False)\n",
    "print(True + False)\n",
    "print(False + True)\n",
    "print(True + True)\n",
    "print(False + True + True + True)"
   ]
  },
  {
   "cell_type": "markdown",
   "id": "46254986",
   "metadata": {
    "papermill": {
     "duration": 0.010322,
     "end_time": "2023-05-13T12:17:16.769721",
     "exception": false,
     "start_time": "2023-05-13T12:17:16.759399",
     "status": "completed"
    },
    "tags": []
   },
   "source": [
    "Once you have an answer, run the code cell below to see the solution.  Viewing the solution will give you credit for answering the problem."
   ]
  },
  {
   "cell_type": "code",
   "execution_count": 11,
   "id": "e7ef9f2f",
   "metadata": {
    "execution": {
     "iopub.execute_input": "2023-05-13T12:17:16.793473Z",
     "iopub.status.busy": "2023-05-13T12:17:16.792480Z",
     "iopub.status.idle": "2023-05-13T12:17:16.801817Z",
     "shell.execute_reply": "2023-05-13T12:17:16.800808Z"
    },
    "papermill": {
     "duration": 0.023479,
     "end_time": "2023-05-13T12:17:16.804042",
     "exception": false,
     "start_time": "2023-05-13T12:17:16.780563",
     "status": "completed"
    },
    "tags": []
   },
   "outputs": [
    {
     "data": {
      "application/javascript": [
       "parent.postMessage({\"jupyterEvent\": \"custom.exercise_interaction\", \"data\": {\"outcomeType\": 1, \"valueTowardsCompletion\": 0.2, \"interactionType\": 1, \"questionType\": 4, \"questionId\": \"4_AddingBooleans\", \"learnToolsVersion\": \"0.3.4\", \"failureMessage\": \"\", \"exceptionClass\": \"\", \"trace\": \"\"}}, \"*\")"
      ],
      "text/plain": [
       "<IPython.core.display.Javascript object>"
      ]
     },
     "metadata": {},
     "output_type": "display_data"
    },
    {
     "data": {
      "text/markdown": [
       "<span style=\"color:#33cc33\">Correct:</span> \n",
       "\n",
       "When you add booleans, adding `False` is equivalent to adding 0, and adding `True` is equivalent to adding 1."
      ],
      "text/plain": [
       "Correct: \n",
       "\n",
       "When you add booleans, adding `False` is equivalent to adding 0, and adding `True` is equivalent to adding 1."
      ]
     },
     "metadata": {},
     "output_type": "display_data"
    }
   ],
   "source": [
    "# Check your answer (Run this code cell to receive credit!)\n",
    "q4.check()"
   ]
  },
  {
   "cell_type": "markdown",
   "id": "fc25f76e",
   "metadata": {
    "papermill": {
     "duration": 0.010316,
     "end_time": "2023-05-13T12:17:16.824859",
     "exception": false,
     "start_time": "2023-05-13T12:17:16.814543",
     "status": "completed"
    },
    "tags": []
   },
   "source": [
    "# 🌶️ Question 5\n",
    "\n",
    "You own an online shop where you sell rings with custom engravings.  You offer both gold plated and solid gold rings.\n",
    "- Gold plated rings have a base cost of \\\\$50, and you charge \\\\$7 per engraved unit.  \n",
    "- Solid gold rings have a base cost of \\\\$100, and you charge \\\\$10 per engraved unit.\n",
    "- Spaces and punctuation are counted as engraved units.\n",
    "\n",
    "Write a function `cost_of_project()` that takes two arguments:\n",
    "- `engraving` - a Python string with the text of the engraving\n",
    "- `solid_gold` - a Boolean that indicates whether the ring is solid gold\n",
    "\n",
    "It should return the cost of the project.  This question should be fairly challenging, and you may need a hint."
   ]
  },
  {
   "cell_type": "code",
   "execution_count": 12,
   "id": "3f0e6ad9",
   "metadata": {
    "execution": {
     "iopub.execute_input": "2023-05-13T12:17:16.848588Z",
     "iopub.status.busy": "2023-05-13T12:17:16.847385Z",
     "iopub.status.idle": "2023-05-13T12:17:16.857437Z",
     "shell.execute_reply": "2023-05-13T12:17:16.856347Z"
    },
    "papermill": {
     "duration": 0.024448,
     "end_time": "2023-05-13T12:17:16.859768",
     "exception": false,
     "start_time": "2023-05-13T12:17:16.835320",
     "status": "completed"
    },
    "tags": []
   },
   "outputs": [
    {
     "data": {
      "application/javascript": [
       "parent.postMessage({\"jupyterEvent\": \"custom.exercise_interaction\", \"data\": {\"outcomeType\": 1, \"valueTowardsCompletion\": 0.2, \"interactionType\": 1, \"questionType\": 2, \"questionId\": \"5_CustomEngravings\", \"learnToolsVersion\": \"0.3.4\", \"failureMessage\": \"\", \"exceptionClass\": \"\", \"trace\": \"\"}}, \"*\")"
      ],
      "text/plain": [
       "<IPython.core.display.Javascript object>"
      ]
     },
     "metadata": {},
     "output_type": "display_data"
    },
    {
     "data": {
      "text/markdown": [
       "<span style=\"color:#33cc33\">Correct</span>"
      ],
      "text/plain": [
       "Correct"
      ]
     },
     "metadata": {},
     "output_type": "display_data"
    }
   ],
   "source": [
    "def cost_of_project(engraving, solid_gold):\n",
    "    cost = solid_gold * (100 + 10 * len(engraving)) + (not solid_gold) * (50 + 7 * len(engraving))\n",
    "    return cost\n",
    "\n",
    "# Check your answer\n",
    "q5.check()"
   ]
  },
  {
   "cell_type": "code",
   "execution_count": 13,
   "id": "703d9db1",
   "metadata": {
    "execution": {
     "iopub.execute_input": "2023-05-13T12:17:16.883711Z",
     "iopub.status.busy": "2023-05-13T12:17:16.883292Z",
     "iopub.status.idle": "2023-05-13T12:17:16.892742Z",
     "shell.execute_reply": "2023-05-13T12:17:16.891624Z"
    },
    "papermill": {
     "duration": 0.024867,
     "end_time": "2023-05-13T12:17:16.895666",
     "exception": false,
     "start_time": "2023-05-13T12:17:16.870799",
     "status": "completed"
    },
    "tags": []
   },
   "outputs": [
    {
     "data": {
      "application/javascript": [
       "parent.postMessage({\"jupyterEvent\": \"custom.exercise_interaction\", \"data\": {\"interactionType\": 3, \"questionType\": 2, \"questionId\": \"5_CustomEngravings\", \"learnToolsVersion\": \"0.3.4\", \"valueTowardsCompletion\": 0.0, \"failureMessage\": \"\", \"exceptionClass\": \"\", \"trace\": \"\", \"outcomeType\": 4}}, \"*\")"
      ],
      "text/plain": [
       "<IPython.core.display.Javascript object>"
      ]
     },
     "metadata": {},
     "output_type": "display_data"
    },
    {
     "data": {
      "text/markdown": [
       "<span style=\"color:#33cc99\">Solution:</span> \n",
       "```python\n",
       "def cost_of_project(engraving, solid_gold):\n",
       "    cost = solid_gold * (100 + 10 * len(engraving)) + (not solid_gold) * (50 + 7 * len(engraving))\n",
       "    return cost\n",
       "\n",
       "```"
      ],
      "text/plain": [
       "Solution: \n",
       "```python\n",
       "def cost_of_project(engraving, solid_gold):\n",
       "    cost = solid_gold * (100 + 10 * len(engraving)) + (not solid_gold) * (50 + 7 * len(engraving))\n",
       "    return cost\n",
       "\n",
       "```"
      ]
     },
     "metadata": {},
     "output_type": "display_data"
    }
   ],
   "source": [
    "# Uncomment to see a hint\n",
    "#q5.hint()\n",
    "\n",
    "# Uncomment to view the solution\n",
    "q5.solution()"
   ]
  },
  {
   "cell_type": "markdown",
   "id": "2f096534",
   "metadata": {
    "papermill": {
     "duration": 0.011778,
     "end_time": "2023-05-13T12:17:16.918890",
     "exception": false,
     "start_time": "2023-05-13T12:17:16.907112",
     "status": "completed"
    },
    "tags": []
   },
   "source": [
    "Run the next code cell to calculate the cost of engraving `Charlie+Denver` on a solid gold ring."
   ]
  },
  {
   "cell_type": "code",
   "execution_count": 14,
   "id": "8bac0e3a",
   "metadata": {
    "execution": {
     "iopub.execute_input": "2023-05-13T12:17:16.943529Z",
     "iopub.status.busy": "2023-05-13T12:17:16.943125Z",
     "iopub.status.idle": "2023-05-13T12:17:16.949402Z",
     "shell.execute_reply": "2023-05-13T12:17:16.948255Z"
    },
    "papermill": {
     "duration": 0.021427,
     "end_time": "2023-05-13T12:17:16.951808",
     "exception": false,
     "start_time": "2023-05-13T12:17:16.930381",
     "status": "completed"
    },
    "tags": []
   },
   "outputs": [
    {
     "name": "stdout",
     "output_type": "stream",
     "text": [
      "240\n"
     ]
    }
   ],
   "source": [
    "project_one = cost_of_project(\"Charlie+Denver\", True)\n",
    "print(project_one)"
   ]
  },
  {
   "cell_type": "markdown",
   "id": "0b058071",
   "metadata": {
    "papermill": {
     "duration": 0.011083,
     "end_time": "2023-05-13T12:17:16.974607",
     "exception": false,
     "start_time": "2023-05-13T12:17:16.963524",
     "status": "completed"
    },
    "tags": []
   },
   "source": [
    "Use the next code cell to calculate the cost of engraving `08/10/2000` on a gold plated ring."
   ]
  },
  {
   "cell_type": "code",
   "execution_count": 15,
   "id": "8e1497d4",
   "metadata": {
    "execution": {
     "iopub.execute_input": "2023-05-13T12:17:16.998900Z",
     "iopub.status.busy": "2023-05-13T12:17:16.998491Z",
     "iopub.status.idle": "2023-05-13T12:17:17.004808Z",
     "shell.execute_reply": "2023-05-13T12:17:17.003343Z"
    },
    "papermill": {
     "duration": 0.021391,
     "end_time": "2023-05-13T12:17:17.007246",
     "exception": false,
     "start_time": "2023-05-13T12:17:16.985855",
     "status": "completed"
    },
    "tags": []
   },
   "outputs": [
    {
     "name": "stdout",
     "output_type": "stream",
     "text": [
      "120\n"
     ]
    }
   ],
   "source": [
    "project_two = cost_of_project(\"08/10/2000\", False)\n",
    "print(project_two)"
   ]
  },
  {
   "cell_type": "markdown",
   "id": "3cee500c",
   "metadata": {
    "papermill": {
     "duration": 0.011481,
     "end_time": "2023-05-13T12:17:17.030397",
     "exception": false,
     "start_time": "2023-05-13T12:17:17.018916",
     "status": "completed"
    },
    "tags": []
   },
   "source": [
    "# Keep going\n",
    "\n",
    "Continue to the next lesson to **[learn about conditions and conditional statements](https://www.kaggle.com/alexisbcook/conditions-and-conditional-statements)**."
   ]
  },
  {
   "cell_type": "markdown",
   "id": "0971efdb",
   "metadata": {
    "papermill": {
     "duration": 0.011843,
     "end_time": "2023-05-13T12:17:17.054240",
     "exception": false,
     "start_time": "2023-05-13T12:17:17.042397",
     "status": "completed"
    },
    "tags": []
   },
   "source": [
    "---\n",
    "\n",
    "\n",
    "\n",
    "\n",
    "*Have questions or comments? Visit the [course discussion forum](https://www.kaggle.com/learn/intro-to-programming/discussion) to chat with other learners.*"
   ]
  }
 ],
 "metadata": {
  "kernelspec": {
   "display_name": "Python 3",
   "language": "python",
   "name": "python3"
  },
  "language_info": {
   "codemirror_mode": {
    "name": "ipython",
    "version": 3
   },
   "file_extension": ".py",
   "mimetype": "text/x-python",
   "name": "python",
   "nbconvert_exporter": "python",
   "pygments_lexer": "ipython3",
   "version": "3.10.10"
  },
  "papermill": {
   "default_parameters": {},
   "duration": 13.65539,
   "end_time": "2023-05-13T12:17:17.889752",
   "environment_variables": {},
   "exception": null,
   "input_path": "__notebook__.ipynb",
   "output_path": "__notebook__.ipynb",
   "parameters": {},
   "start_time": "2023-05-13T12:17:04.234362",
   "version": "2.4.0"
  }
 },
 "nbformat": 4,
 "nbformat_minor": 5
}

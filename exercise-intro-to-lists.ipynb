{
 "cells": [
  {
   "cell_type": "markdown",
   "id": "a80b7f2a",
   "metadata": {
    "papermill": {
     "duration": 0.006327,
     "end_time": "2023-05-13T13:09:51.932314",
     "exception": false,
     "start_time": "2023-05-13T13:09:51.925987",
     "status": "completed"
    },
    "tags": []
   },
   "source": [
    "**This notebook is an exercise in the [Intro to Programming](https://www.kaggle.com/learn/intro-to-programming) course.  You can reference the tutorial at [this link](https://www.kaggle.com/alexisbcook/intro-to-lists).**\n",
    "\n",
    "---\n"
   ]
  },
  {
   "cell_type": "markdown",
   "id": "21b10b21",
   "metadata": {
    "papermill": {
     "duration": 0.007363,
     "end_time": "2023-05-13T13:09:51.945798",
     "exception": false,
     "start_time": "2023-05-13T13:09:51.938435",
     "status": "completed"
    },
    "tags": []
   },
   "source": [
    "In the tutorial, you learned how to define and modify Python lists.  In this exercise, you will use your new knowledge to solve several problems.\n",
    "\n",
    "# Set up the notebook\n",
    "\n",
    "Run the next code cell without changes to set up the notebook."
   ]
  },
  {
   "cell_type": "code",
   "execution_count": 1,
   "id": "c12e3873",
   "metadata": {
    "execution": {
     "iopub.execute_input": "2023-05-13T13:09:51.959021Z",
     "iopub.status.busy": "2023-05-13T13:09:51.958672Z",
     "iopub.status.idle": "2023-05-13T13:09:52.014353Z",
     "shell.execute_reply": "2023-05-13T13:09:52.012045Z"
    },
    "papermill": {
     "duration": 0.064869,
     "end_time": "2023-05-13T13:09:52.016782",
     "exception": false,
     "start_time": "2023-05-13T13:09:51.951913",
     "status": "completed"
    },
    "tags": []
   },
   "outputs": [
    {
     "name": "stdout",
     "output_type": "stream",
     "text": [
      "Setup complete.\n"
     ]
    }
   ],
   "source": [
    "from learntools.core import binder\n",
    "binder.bind(globals())\n",
    "from learntools.intro_to_programming.ex5 import *\n",
    "print('Setup complete.')"
   ]
  },
  {
   "cell_type": "markdown",
   "id": "cf5db139",
   "metadata": {
    "papermill": {
     "duration": 0.006006,
     "end_time": "2023-05-13T13:09:52.028768",
     "exception": false,
     "start_time": "2023-05-13T13:09:52.022762",
     "status": "completed"
    },
    "tags": []
   },
   "source": [
    "# Question 1\n",
    "\n",
    "You own a restaurant with five food dishes, organized in the Python list `menu` below.  One day, you decide to:\n",
    "- remove bean soup (`'bean soup'`) from the menu, and\n",
    "- add roasted beet salad (`'roasted beet salad'`) to the menu.\n",
    "\n",
    "Implement this change to the list below.  While completing this task, \n",
    "- do not change the line that creates the `menu` list.  \n",
    "- your answer should use `.remove()` and `.append()`.  "
   ]
  },
  {
   "cell_type": "code",
   "execution_count": 2,
   "id": "4be554dd",
   "metadata": {
    "execution": {
     "iopub.execute_input": "2023-05-13T13:09:52.042756Z",
     "iopub.status.busy": "2023-05-13T13:09:52.042306Z",
     "iopub.status.idle": "2023-05-13T13:09:52.051810Z",
     "shell.execute_reply": "2023-05-13T13:09:52.050882Z"
    },
    "papermill": {
     "duration": 0.018996,
     "end_time": "2023-05-13T13:09:52.053998",
     "exception": false,
     "start_time": "2023-05-13T13:09:52.035002",
     "status": "completed"
    },
    "tags": []
   },
   "outputs": [
    {
     "data": {
      "application/javascript": [
       "parent.postMessage({\"jupyterEvent\": \"custom.exercise_interaction\", \"data\": {\"outcomeType\": 1, \"valueTowardsCompletion\": 0.2, \"interactionType\": 1, \"questionType\": 2, \"questionId\": \"1_FoodMenu\", \"learnToolsVersion\": \"0.3.4\", \"failureMessage\": \"\", \"exceptionClass\": \"\", \"trace\": \"\"}}, \"*\")"
      ],
      "text/plain": [
       "<IPython.core.display.Javascript object>"
      ]
     },
     "metadata": {},
     "output_type": "display_data"
    },
    {
     "data": {
      "text/markdown": [
       "<span style=\"color:#33cc33\">Correct</span>"
      ],
      "text/plain": [
       "Correct"
      ]
     },
     "metadata": {},
     "output_type": "display_data"
    }
   ],
   "source": [
    "# Do not change: Initial menu for your restaurant\n",
    "menu = ['stewed meat with onions', 'bean soup', 'risotto with trout and shrimp',\n",
    "       'fish soup with cream and onion', 'gyro']\n",
    "\n",
    "# TODO: remove 'bean soup', and add 'roasted beet salad' to the end of the menu\n",
    "menu.remove('bean soup')\n",
    "menu.append('roasted beet salad')\n",
    "\n",
    "# Do not change: Check your answer\n",
    "q1.check()"
   ]
  },
  {
   "cell_type": "code",
   "execution_count": 3,
   "id": "67bb3259",
   "metadata": {
    "execution": {
     "iopub.execute_input": "2023-05-13T13:09:52.068251Z",
     "iopub.status.busy": "2023-05-13T13:09:52.067435Z",
     "iopub.status.idle": "2023-05-13T13:09:52.072467Z",
     "shell.execute_reply": "2023-05-13T13:09:52.071653Z"
    },
    "papermill": {
     "duration": 0.014443,
     "end_time": "2023-05-13T13:09:52.074562",
     "exception": false,
     "start_time": "2023-05-13T13:09:52.060119",
     "status": "completed"
    },
    "tags": []
   },
   "outputs": [],
   "source": [
    "# Uncomment to see a hint\n",
    "#q1.hint()\n",
    "\n",
    "# Uncomment to see the solution\n",
    "#q1.solution()"
   ]
  },
  {
   "cell_type": "markdown",
   "id": "90357f7a",
   "metadata": {
    "papermill": {
     "duration": 0.005864,
     "end_time": "2023-05-13T13:09:52.086712",
     "exception": false,
     "start_time": "2023-05-13T13:09:52.080848",
     "status": "completed"
    },
    "tags": []
   },
   "source": [
    "# Question 2\n",
    "\n",
    "The list `num_customers` contains the number of customers who came into your restaurant every day over the last month (which lasted thirty days).  Fill in values for each of the following:\n",
    "- `avg_first_seven` - average number of customers who visited in the first seven days\n",
    "- `avg_last_seven` - average number of customers who visited in the last seven days\n",
    "- `max_month` - number of customers on the day that got the most customers in the last month\n",
    "- `min_month` - number of customers on the day that got the least customers in the last month\n",
    "\n",
    "Answer this question by writing code.  For instance, if you have to find the minimum value in a list, use `min()` instead of scanning for the smallest value and directly filling in a number."
   ]
  },
  {
   "cell_type": "code",
   "execution_count": 4,
   "id": "05a2bd68",
   "metadata": {
    "execution": {
     "iopub.execute_input": "2023-05-13T13:09:52.100989Z",
     "iopub.status.busy": "2023-05-13T13:09:52.100231Z",
     "iopub.status.idle": "2023-05-13T13:09:52.108914Z",
     "shell.execute_reply": "2023-05-13T13:09:52.108197Z"
    },
    "papermill": {
     "duration": 0.018021,
     "end_time": "2023-05-13T13:09:52.110763",
     "exception": false,
     "start_time": "2023-05-13T13:09:52.092742",
     "status": "completed"
    },
    "tags": []
   },
   "outputs": [
    {
     "data": {
      "application/javascript": [
       "parent.postMessage({\"jupyterEvent\": \"custom.exercise_interaction\", \"data\": {\"outcomeType\": 1, \"valueTowardsCompletion\": 0.2, \"interactionType\": 1, \"questionType\": 1, \"questionId\": \"2_NumCustomers\", \"learnToolsVersion\": \"0.3.4\", \"failureMessage\": \"\", \"exceptionClass\": \"\", \"trace\": \"\"}}, \"*\")"
      ],
      "text/plain": [
       "<IPython.core.display.Javascript object>"
      ]
     },
     "metadata": {},
     "output_type": "display_data"
    },
    {
     "data": {
      "text/markdown": [
       "<span style=\"color:#33cc33\">Correct</span>"
      ],
      "text/plain": [
       "Correct"
      ]
     },
     "metadata": {},
     "output_type": "display_data"
    }
   ],
   "source": [
    "# Do not change: Number of customers each day for the last month\n",
    "num_customers = [137, 147, 135, 128, 170, 174, 165, 146, 126, 159,\n",
    "                 141, 148, 132, 147, 168, 153, 170, 161, 148, 152,\n",
    "                 141, 151, 131, 149, 164, 163, 143, 143, 166, 171]\n",
    "\n",
    "# TODO: Fill in values for the variables below\n",
    "avg_first_seven = sum(num_customers[:7]) / 7\n",
    "avg_last_seven = sum(num_customers[-7:]) / 7\n",
    "max_month = max(num_customers)\n",
    "min_month = min(num_customers)\n",
    "\n",
    "# Do not change: Check your answer\n",
    "q2.check()"
   ]
  },
  {
   "cell_type": "code",
   "execution_count": 5,
   "id": "12812288",
   "metadata": {
    "execution": {
     "iopub.execute_input": "2023-05-13T13:09:52.125348Z",
     "iopub.status.busy": "2023-05-13T13:09:52.124665Z",
     "iopub.status.idle": "2023-05-13T13:09:52.128353Z",
     "shell.execute_reply": "2023-05-13T13:09:52.127574Z"
    },
    "papermill": {
     "duration": 0.012992,
     "end_time": "2023-05-13T13:09:52.130304",
     "exception": false,
     "start_time": "2023-05-13T13:09:52.117312",
     "status": "completed"
    },
    "tags": []
   },
   "outputs": [],
   "source": [
    "# Uncomment to see a hint\n",
    "#q2.hint()\n",
    "\n",
    "# Uncomment to see the solution\n",
    "#q2.solution()"
   ]
  },
  {
   "cell_type": "markdown",
   "id": "e44bc14d",
   "metadata": {
    "papermill": {
     "duration": 0.006451,
     "end_time": "2023-05-13T13:09:52.143222",
     "exception": false,
     "start_time": "2023-05-13T13:09:52.136771",
     "status": "completed"
    },
    "tags": []
   },
   "source": [
    "# Question 3\n",
    "\n",
    "In the tutorial, we gave an example of a Python string with information that was better as a list."
   ]
  },
  {
   "cell_type": "code",
   "execution_count": 6,
   "id": "4f658db0",
   "metadata": {
    "execution": {
     "iopub.execute_input": "2023-05-13T13:09:52.158387Z",
     "iopub.status.busy": "2023-05-13T13:09:52.157671Z",
     "iopub.status.idle": "2023-05-13T13:09:52.161793Z",
     "shell.execute_reply": "2023-05-13T13:09:52.160903Z"
    },
    "papermill": {
     "duration": 0.014125,
     "end_time": "2023-05-13T13:09:52.163832",
     "exception": false,
     "start_time": "2023-05-13T13:09:52.149707",
     "status": "completed"
    },
    "tags": []
   },
   "outputs": [],
   "source": [
    "flowers = \"pink primrose,hard-leaved pocket orchid,canterbury bells,sweet pea,english marigold,tiger lily,moon orchid,bird of paradise,monkshood,globe thistle\""
   ]
  },
  {
   "cell_type": "markdown",
   "id": "309f0dff",
   "metadata": {
    "papermill": {
     "duration": 0.006348,
     "end_time": "2023-05-13T13:09:52.176893",
     "exception": false,
     "start_time": "2023-05-13T13:09:52.170545",
     "status": "completed"
    },
    "tags": []
   },
   "source": [
    "You can actually use Python to quickly turn this string into a list with `.split()`.  In the parentheses, we need to provide the character should be used to mark the end of one list item and the beginning of another, and enclose it in quotation marks.  In this case, that character is a comma."
   ]
  },
  {
   "cell_type": "code",
   "execution_count": 7,
   "id": "67563a05",
   "metadata": {
    "execution": {
     "iopub.execute_input": "2023-05-13T13:09:52.192057Z",
     "iopub.status.busy": "2023-05-13T13:09:52.191391Z",
     "iopub.status.idle": "2023-05-13T13:09:52.196431Z",
     "shell.execute_reply": "2023-05-13T13:09:52.195371Z"
    },
    "papermill": {
     "duration": 0.014953,
     "end_time": "2023-05-13T13:09:52.198574",
     "exception": false,
     "start_time": "2023-05-13T13:09:52.183621",
     "status": "completed"
    },
    "tags": []
   },
   "outputs": [
    {
     "name": "stdout",
     "output_type": "stream",
     "text": [
      "['pink primrose', 'hard-leaved pocket orchid', 'canterbury bells', 'sweet pea', 'english marigold', 'tiger lily', 'moon orchid', 'bird of paradise', 'monkshood', 'globe thistle']\n"
     ]
    }
   ],
   "source": [
    " print(flowers.split(\",\"))"
   ]
  },
  {
   "cell_type": "markdown",
   "id": "213716ab",
   "metadata": {
    "papermill": {
     "duration": 0.006091,
     "end_time": "2023-05-13T13:09:52.211245",
     "exception": false,
     "start_time": "2023-05-13T13:09:52.205154",
     "status": "completed"
    },
    "tags": []
   },
   "source": [
    "Now it is your turn to try this out!  Create two Python lists:\n",
    "- `letters` should be a Python list where each entry is an uppercase letter of the English alphabet.  For instance, the first two entries should be `\"A\"` and `\"B\"`, and the final two entries should be `\"Y\"` and `\"Z\"`.  Use the string `alphabet` to create this list.\n",
    "- `address` should be a Python list where each row in `address` is a different item in the list.  Currently, each row in `address` is separated by a comma. "
   ]
  },
  {
   "cell_type": "code",
   "execution_count": 8,
   "id": "04cd6928",
   "metadata": {
    "execution": {
     "iopub.execute_input": "2023-05-13T13:09:52.225977Z",
     "iopub.status.busy": "2023-05-13T13:09:52.225215Z",
     "iopub.status.idle": "2023-05-13T13:09:52.233690Z",
     "shell.execute_reply": "2023-05-13T13:09:52.232911Z"
    },
    "papermill": {
     "duration": 0.017929,
     "end_time": "2023-05-13T13:09:52.235534",
     "exception": false,
     "start_time": "2023-05-13T13:09:52.217605",
     "status": "completed"
    },
    "tags": []
   },
   "outputs": [
    {
     "data": {
      "application/javascript": [
       "parent.postMessage({\"jupyterEvent\": \"custom.exercise_interaction\", \"data\": {\"outcomeType\": 1, \"valueTowardsCompletion\": 0.2, \"interactionType\": 1, \"questionType\": 1, \"questionId\": \"3_SplitString\", \"learnToolsVersion\": \"0.3.4\", \"failureMessage\": \"\", \"exceptionClass\": \"\", \"trace\": \"\"}}, \"*\")"
      ],
      "text/plain": [
       "<IPython.core.display.Javascript object>"
      ]
     },
     "metadata": {},
     "output_type": "display_data"
    },
    {
     "data": {
      "text/markdown": [
       "<span style=\"color:#33cc33\">Correct</span>"
      ],
      "text/plain": [
       "Correct"
      ]
     },
     "metadata": {},
     "output_type": "display_data"
    }
   ],
   "source": [
    "# DO not change: Define two Python strings\n",
    "alphabet = \"A.B.C.D.E.F.G.H.I.J.K.L.M.N.O.P.Q.R.S.T.U.V.W.X.Y.Z\"\n",
    "address = \"Mr. H. Potter,The cupboard under the Stairs,4 Privet Drive,Little Whinging,Surrey\"\n",
    "\n",
    "# TODO: Convert strings into Python lists\n",
    "letters = alphabet.split(\".\")\n",
    "formatted_address = address.split(\",\")\n",
    "\n",
    "# Do not change: Check your answer\n",
    "q3.check()"
   ]
  },
  {
   "cell_type": "code",
   "execution_count": 9,
   "id": "4987f49f",
   "metadata": {
    "execution": {
     "iopub.execute_input": "2023-05-13T13:09:52.251224Z",
     "iopub.status.busy": "2023-05-13T13:09:52.250550Z",
     "iopub.status.idle": "2023-05-13T13:09:52.254186Z",
     "shell.execute_reply": "2023-05-13T13:09:52.253419Z"
    },
    "papermill": {
     "duration": 0.013955,
     "end_time": "2023-05-13T13:09:52.256405",
     "exception": false,
     "start_time": "2023-05-13T13:09:52.242450",
     "status": "completed"
    },
    "tags": []
   },
   "outputs": [],
   "source": [
    "# Uncomment to see a hint\n",
    "#q3.hint()\n",
    "\n",
    "# Uncomment to see the solution\n",
    "#q3.solution()"
   ]
  },
  {
   "cell_type": "markdown",
   "id": "a995e201",
   "metadata": {
    "papermill": {
     "duration": 0.006429,
     "end_time": "2023-05-13T13:09:52.269943",
     "exception": false,
     "start_time": "2023-05-13T13:09:52.263514",
     "status": "completed"
    },
    "tags": []
   },
   "source": [
    "# Question 4\n",
    "\n",
    "In the Python course, you'll learn all about **list comprehensions**, which allow you to create a list based on the values in another list.  In this question, you'll get a brief preview of how they work.\n",
    "\n",
    "Say we're working with the list below."
   ]
  },
  {
   "cell_type": "code",
   "execution_count": 10,
   "id": "9d550035",
   "metadata": {
    "execution": {
     "iopub.execute_input": "2023-05-13T13:09:52.288583Z",
     "iopub.status.busy": "2023-05-13T13:09:52.286846Z",
     "iopub.status.idle": "2023-05-13T13:09:52.294201Z",
     "shell.execute_reply": "2023-05-13T13:09:52.292560Z"
    },
    "papermill": {
     "duration": 0.019988,
     "end_time": "2023-05-13T13:09:52.297110",
     "exception": false,
     "start_time": "2023-05-13T13:09:52.277122",
     "status": "completed"
    },
    "tags": []
   },
   "outputs": [],
   "source": [
    "test_ratings = [1, 2, 3, 4, 5]"
   ]
  },
  {
   "cell_type": "markdown",
   "id": "98769deb",
   "metadata": {
    "papermill": {
     "duration": 0.008379,
     "end_time": "2023-05-13T13:09:52.314247",
     "exception": false,
     "start_time": "2023-05-13T13:09:52.305868",
     "status": "completed"
    },
    "tags": []
   },
   "source": [
    "Then we can use this list (`test_ratings`) to create a new list (`test_liked`) where each item has been turned into a boolean, depending on whether or not the item is greater than or equal to four."
   ]
  },
  {
   "cell_type": "code",
   "execution_count": 11,
   "id": "9be9cf08",
   "metadata": {
    "execution": {
     "iopub.execute_input": "2023-05-13T13:09:52.335262Z",
     "iopub.status.busy": "2023-05-13T13:09:52.334182Z",
     "iopub.status.idle": "2023-05-13T13:09:52.340765Z",
     "shell.execute_reply": "2023-05-13T13:09:52.339565Z"
    },
    "papermill": {
     "duration": 0.017811,
     "end_time": "2023-05-13T13:09:52.342971",
     "exception": false,
     "start_time": "2023-05-13T13:09:52.325160",
     "status": "completed"
    },
    "tags": []
   },
   "outputs": [
    {
     "name": "stdout",
     "output_type": "stream",
     "text": [
      "[False, False, False, True, True]\n"
     ]
    }
   ],
   "source": [
    "test_liked = [i>=4 for i in test_ratings]\n",
    "print(test_liked)"
   ]
  },
  {
   "cell_type": "markdown",
   "id": "d2583825",
   "metadata": {
    "papermill": {
     "duration": 0.006436,
     "end_time": "2023-05-13T13:09:52.356153",
     "exception": false,
     "start_time": "2023-05-13T13:09:52.349717",
     "status": "completed"
    },
    "tags": []
   },
   "source": [
    "In this question, you'll use this list comprehension to define a function `percentage_liked()` that takes one argument as input:\n",
    "- `ratings`: list of ratings that people gave to a movie, where each rating is a number between 1-5, inclusive\n",
    "\n",
    "We say someone liked the movie, if they gave a rating of either 4 or 5.  Your function should return the percentage of people who liked the movie.\n",
    "\n",
    "For instance, if we supply a value of `[1, 2, 3, 4, 5, 4, 5, 1]`, then 50% (4/8) of the people liked the movie, and the function should return `0.5`.\n",
    "\n",
    "Part of the function has already been completed for you.  You need only use `list_liked` to calculate `percentage_liked`."
   ]
  },
  {
   "cell_type": "code",
   "execution_count": 12,
   "id": "66617af3",
   "metadata": {
    "execution": {
     "iopub.execute_input": "2023-05-13T13:09:52.371657Z",
     "iopub.status.busy": "2023-05-13T13:09:52.370698Z",
     "iopub.status.idle": "2023-05-13T13:09:52.380369Z",
     "shell.execute_reply": "2023-05-13T13:09:52.379594Z"
    },
    "papermill": {
     "duration": 0.01983,
     "end_time": "2023-05-13T13:09:52.382722",
     "exception": false,
     "start_time": "2023-05-13T13:09:52.362892",
     "status": "completed"
    },
    "tags": []
   },
   "outputs": [
    {
     "data": {
      "application/javascript": [
       "parent.postMessage({\"jupyterEvent\": \"custom.exercise_interaction\", \"data\": {\"outcomeType\": 1, \"valueTowardsCompletion\": 0.2, \"interactionType\": 1, \"questionType\": 2, \"questionId\": \"4_PercentageLiked\", \"learnToolsVersion\": \"0.3.4\", \"failureMessage\": \"\", \"exceptionClass\": \"\", \"trace\": \"\"}}, \"*\")"
      ],
      "text/plain": [
       "<IPython.core.display.Javascript object>"
      ]
     },
     "metadata": {},
     "output_type": "display_data"
    },
    {
     "data": {
      "text/markdown": [
       "<span style=\"color:#33cc33\">Correct</span>"
      ],
      "text/plain": [
       "Correct"
      ]
     },
     "metadata": {},
     "output_type": "display_data"
    }
   ],
   "source": [
    "\n",
    "def percentage_liked(ratings):\n",
    "    list_liked = [i>=4 for i in ratings]\n",
    "    # TODO: Complete the function\n",
    "    percentage_liked = sum(list_liked) / len(list_liked)\n",
    "    return percentage_liked\n",
    "\n",
    "# Do not change: should return 0.5\n",
    "percentage_liked([1, 2, 3, 4, 5, 4, 5, 1])\n",
    "\n",
    "# Do not change: Check your answer\n",
    "q4.check()"
   ]
  },
  {
   "cell_type": "code",
   "execution_count": 13,
   "id": "cd1110fd",
   "metadata": {
    "execution": {
     "iopub.execute_input": "2023-05-13T13:09:52.401986Z",
     "iopub.status.busy": "2023-05-13T13:09:52.401361Z",
     "iopub.status.idle": "2023-05-13T13:09:52.405635Z",
     "shell.execute_reply": "2023-05-13T13:09:52.404387Z"
    },
    "papermill": {
     "duration": 0.015353,
     "end_time": "2023-05-13T13:09:52.407951",
     "exception": false,
     "start_time": "2023-05-13T13:09:52.392598",
     "status": "completed"
    },
    "tags": []
   },
   "outputs": [],
   "source": [
    "# Uncomment to see a hint\n",
    "#q4.hint()\n",
    "\n",
    "# Uncomment to see the solution\n",
    "#q4.solution()"
   ]
  },
  {
   "cell_type": "markdown",
   "id": "41720a17",
   "metadata": {
    "papermill": {
     "duration": 0.007047,
     "end_time": "2023-05-13T13:09:52.422240",
     "exception": false,
     "start_time": "2023-05-13T13:09:52.415193",
     "status": "completed"
    },
    "tags": []
   },
   "source": [
    "# 🌶️ Question 5\n",
    " \n",
    "Say you're doing analytics for a website.  You need to write a function that returns the percentage growth in the total number of users relative to a specified number of years ago.\n",
    "\n",
    "Your function `percentage_growth()` should take two arguments as input:\n",
    "- `num_users` = Python list with the total number of users each year.  So `num_users[0]` is the total number of users in the first year, `num_users[1]` is the total number of users in the second year, and so on.  The final entry in the list gives the total number of users in the most recently completed year.\n",
    "- `yrs_ago` = number of years to go back in time when calculating the growth percentage\n",
    "\n",
    "For instance, say `num_users = [920344, 1043553, 1204334, 1458996, 1503323, 1593432, 1623463, 1843064, 1930992, 2001078]`.\n",
    "- if `yrs_ago = 1`, we want the function to return a value of about `0.036`. This corresponds to a percentage growth of approximately 3.6%, calculated as (2001078 - 1930992)/1930992.\n",
    "- if `years_ago = 7`, we would want to return approximately `0.66`.  This corresponds to a percentage growth of approximately 66%, calculated as (2001078 - 1204334)/1204334.\n",
    "\n",
    "Your coworker sent you a draft of a function, but it doesn't seem to be doing the correct calculation.  Can you figure out what has gone wrong and make the needed changes?"
   ]
  },
  {
   "cell_type": "code",
   "execution_count": 14,
   "id": "cb697396",
   "metadata": {
    "execution": {
     "iopub.execute_input": "2023-05-13T13:09:52.438870Z",
     "iopub.status.busy": "2023-05-13T13:09:52.438476Z",
     "iopub.status.idle": "2023-05-13T13:09:52.449192Z",
     "shell.execute_reply": "2023-05-13T13:09:52.448179Z"
    },
    "papermill": {
     "duration": 0.021804,
     "end_time": "2023-05-13T13:09:52.451315",
     "exception": false,
     "start_time": "2023-05-13T13:09:52.429511",
     "status": "completed"
    },
    "tags": []
   },
   "outputs": [
    {
     "name": "stdout",
     "output_type": "stream",
     "text": [
      "0.03629533421163837\n",
      "0.6615639847417742\n"
     ]
    },
    {
     "data": {
      "application/javascript": [
       "parent.postMessage({\"jupyterEvent\": \"custom.exercise_interaction\", \"data\": {\"outcomeType\": 1, \"valueTowardsCompletion\": 0.2, \"interactionType\": 1, \"questionType\": 2, \"questionId\": \"5_WebsiteAnalytics\", \"learnToolsVersion\": \"0.3.4\", \"failureMessage\": \"\", \"exceptionClass\": \"\", \"trace\": \"\"}}, \"*\")"
      ],
      "text/plain": [
       "<IPython.core.display.Javascript object>"
      ]
     },
     "metadata": {},
     "output_type": "display_data"
    },
    {
     "data": {
      "text/markdown": [
       "<span style=\"color:#33cc33\">Correct</span>"
      ],
      "text/plain": [
       "Correct"
      ]
     },
     "metadata": {},
     "output_type": "display_data"
    }
   ],
   "source": [
    "# TODO: Edit the function\n",
    "def percentage_growth(num_users, yrs_ago):\n",
    "    growth = (num_users[len(num_users)-1] - num_users[len(num_users)- (yrs_ago + 1)])/num_users[len(num_users)- (yrs_ago + 1)]\n",
    "    return growth\n",
    "\n",
    "# Do not change: Variable for calculating some test examples\n",
    "num_users_test = [920344, 1043553, 1204334, 1458996, 1503323, 1593432, 1623463, 1843064, 1930992, 2001078]\n",
    "\n",
    "# Do not change: Should return .036\n",
    "print(percentage_growth(num_users_test, 1))\n",
    "\n",
    "# Do not change: Should return 0.66\n",
    "print(percentage_growth(num_users_test, 7))\n",
    "\n",
    "# Do not change: Check your answer\n",
    "q5.check()"
   ]
  },
  {
   "cell_type": "code",
   "execution_count": 15,
   "id": "1c5d4122",
   "metadata": {
    "execution": {
     "iopub.execute_input": "2023-05-13T13:09:52.467645Z",
     "iopub.status.busy": "2023-05-13T13:09:52.467268Z",
     "iopub.status.idle": "2023-05-13T13:09:52.471298Z",
     "shell.execute_reply": "2023-05-13T13:09:52.470177Z"
    },
    "papermill": {
     "duration": 0.014356,
     "end_time": "2023-05-13T13:09:52.473229",
     "exception": false,
     "start_time": "2023-05-13T13:09:52.458873",
     "status": "completed"
    },
    "tags": []
   },
   "outputs": [],
   "source": [
    "# Uncomment to see a hint\n",
    "#q5.hint()\n",
    "\n",
    "# Uncomment to see the solution\n",
    "#q5.solution()"
   ]
  },
  {
   "cell_type": "markdown",
   "id": "a8ac45bf",
   "metadata": {
    "papermill": {
     "duration": 0.007095,
     "end_time": "2023-05-13T13:09:52.487668",
     "exception": false,
     "start_time": "2023-05-13T13:09:52.480573",
     "status": "completed"
    },
    "tags": []
   },
   "source": [
    "# Congratulations!\n",
    "\n",
    "Congratulations for finishing the Intro to Programming course!  You should be proud of your very first steps with learning programming.  As next steps, we recommend taking:\n",
    "- the **[Python course](http://www.kaggle.com/learn/python)**, and \n",
    "- the **[Intro to Machine Learning course](https://www.kaggle.com/learn/intro-to-machine-learning)**."
   ]
  },
  {
   "cell_type": "markdown",
   "id": "03105e70",
   "metadata": {
    "papermill": {
     "duration": 0.00682,
     "end_time": "2023-05-13T13:09:52.501535",
     "exception": false,
     "start_time": "2023-05-13T13:09:52.494715",
     "status": "completed"
    },
    "tags": []
   },
   "source": [
    "---\n",
    "\n",
    "\n",
    "\n",
    "\n",
    "*Have questions or comments? Visit the [course discussion forum](https://www.kaggle.com/learn/intro-to-programming/discussion) to chat with other learners.*"
   ]
  }
 ],
 "metadata": {
  "kernelspec": {
   "display_name": "Python 3",
   "language": "python",
   "name": "python3"
  },
  "language_info": {
   "codemirror_mode": {
    "name": "ipython",
    "version": 3
   },
   "file_extension": ".py",
   "mimetype": "text/x-python",
   "name": "python",
   "nbconvert_exporter": "python",
   "pygments_lexer": "ipython3",
   "version": "3.10.10"
  },
  "papermill": {
   "default_parameters": {},
   "duration": 11.464962,
   "end_time": "2023-05-13T13:09:53.329297",
   "environment_variables": {},
   "exception": null,
   "input_path": "__notebook__.ipynb",
   "output_path": "__notebook__.ipynb",
   "parameters": {},
   "start_time": "2023-05-13T13:09:41.864335",
   "version": "2.4.0"
  }
 },
 "nbformat": 4,
 "nbformat_minor": 5
}

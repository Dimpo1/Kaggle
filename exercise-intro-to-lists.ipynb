{
 "cells": [
  {
   "cell_type": "markdown",
   "id": "338347d3",
   "metadata": {
    "papermill": {
     "duration": 0.009371,
     "end_time": "2023-05-13T12:59:26.386134",
     "exception": false,
     "start_time": "2023-05-13T12:59:26.376763",
     "status": "completed"
    },
    "tags": []
   },
   "source": [
    "**This notebook is an exercise in the [Intro to Programming](https://www.kaggle.com/learn/intro-to-programming) course.  You can reference the tutorial at [this link](https://www.kaggle.com/alexisbcook/intro-to-lists).**\n",
    "\n",
    "---\n"
   ]
  },
  {
   "cell_type": "markdown",
   "id": "5315c070",
   "metadata": {
    "papermill": {
     "duration": 0.005291,
     "end_time": "2023-05-13T12:59:26.397984",
     "exception": false,
     "start_time": "2023-05-13T12:59:26.392693",
     "status": "completed"
    },
    "tags": []
   },
   "source": [
    "In the tutorial, you learned how to define and modify Python lists.  In this exercise, you will use your new knowledge to solve several problems.\n",
    "\n",
    "# Set up the notebook\n",
    "\n",
    "Run the next code cell without changes to set up the notebook."
   ]
  },
  {
   "cell_type": "code",
   "execution_count": 1,
   "id": "54d3214d",
   "metadata": {
    "execution": {
     "iopub.execute_input": "2023-05-13T12:59:26.411398Z",
     "iopub.status.busy": "2023-05-13T12:59:26.410660Z",
     "iopub.status.idle": "2023-05-13T12:59:26.461813Z",
     "shell.execute_reply": "2023-05-13T12:59:26.460758Z"
    },
    "papermill": {
     "duration": 0.060755,
     "end_time": "2023-05-13T12:59:26.464309",
     "exception": false,
     "start_time": "2023-05-13T12:59:26.403554",
     "status": "completed"
    },
    "tags": []
   },
   "outputs": [
    {
     "name": "stdout",
     "output_type": "stream",
     "text": [
      "Setup complete.\n"
     ]
    }
   ],
   "source": [
    "from learntools.core import binder\n",
    "binder.bind(globals())\n",
    "from learntools.intro_to_programming.ex5 import *\n",
    "print('Setup complete.')"
   ]
  },
  {
   "cell_type": "markdown",
   "id": "4adfbba7",
   "metadata": {
    "papermill": {
     "duration": 0.005492,
     "end_time": "2023-05-13T12:59:26.475704",
     "exception": false,
     "start_time": "2023-05-13T12:59:26.470212",
     "status": "completed"
    },
    "tags": []
   },
   "source": [
    "# Question 1\n",
    "\n",
    "You own a restaurant with five food dishes, organized in the Python list `menu` below.  One day, you decide to:\n",
    "- remove bean soup (`'bean soup'`) from the menu, and\n",
    "- add roasted beet salad (`'roasted beet salad'`) to the menu.\n",
    "\n",
    "Implement this change to the list below.  While completing this task, \n",
    "- do not change the line that creates the `menu` list.  \n",
    "- your answer should use `.remove()` and `.append()`.  "
   ]
  },
  {
   "cell_type": "code",
   "execution_count": 2,
   "id": "fc8da58a",
   "metadata": {
    "execution": {
     "iopub.execute_input": "2023-05-13T12:59:26.488564Z",
     "iopub.status.busy": "2023-05-13T12:59:26.488212Z",
     "iopub.status.idle": "2023-05-13T12:59:26.498693Z",
     "shell.execute_reply": "2023-05-13T12:59:26.497630Z"
    },
    "papermill": {
     "duration": 0.019665,
     "end_time": "2023-05-13T12:59:26.500972",
     "exception": false,
     "start_time": "2023-05-13T12:59:26.481307",
     "status": "completed"
    },
    "tags": []
   },
   "outputs": [
    {
     "data": {
      "application/javascript": [
       "parent.postMessage({\"jupyterEvent\": \"custom.exercise_interaction\", \"data\": {\"outcomeType\": 1, \"valueTowardsCompletion\": 0.2, \"interactionType\": 1, \"questionType\": 2, \"questionId\": \"1_FoodMenu\", \"learnToolsVersion\": \"0.3.4\", \"failureMessage\": \"\", \"exceptionClass\": \"\", \"trace\": \"\"}}, \"*\")"
      ],
      "text/plain": [
       "<IPython.core.display.Javascript object>"
      ]
     },
     "metadata": {},
     "output_type": "display_data"
    },
    {
     "data": {
      "text/markdown": [
       "<span style=\"color:#33cc33\">Correct</span>"
      ],
      "text/plain": [
       "Correct"
      ]
     },
     "metadata": {},
     "output_type": "display_data"
    }
   ],
   "source": [
    "# Do not change: Initial menu for your restaurant\n",
    "menu = ['stewed meat with onions', 'bean soup', 'risotto with trout and shrimp',\n",
    "       'fish soup with cream and onion', 'gyro']\n",
    "\n",
    "# TODO: remove 'bean soup', and add 'roasted beet salad' to the end of the menu\n",
    "menu.remove('bean soup')\n",
    "menu.append('roasted beet salad')\n",
    "\n",
    "# Do not change: Check your answer\n",
    "q1.check()"
   ]
  },
  {
   "cell_type": "code",
   "execution_count": 3,
   "id": "a851c0e3",
   "metadata": {
    "execution": {
     "iopub.execute_input": "2023-05-13T12:59:26.514870Z",
     "iopub.status.busy": "2023-05-13T12:59:26.514185Z",
     "iopub.status.idle": "2023-05-13T12:59:26.518834Z",
     "shell.execute_reply": "2023-05-13T12:59:26.517671Z"
    },
    "papermill": {
     "duration": 0.014354,
     "end_time": "2023-05-13T12:59:26.521288",
     "exception": false,
     "start_time": "2023-05-13T12:59:26.506934",
     "status": "completed"
    },
    "tags": []
   },
   "outputs": [],
   "source": [
    "# Uncomment to see a hint\n",
    "#q1.hint()\n",
    "\n",
    "# Uncomment to see the solution\n",
    "#q1.solution()"
   ]
  },
  {
   "cell_type": "markdown",
   "id": "4b51e768",
   "metadata": {
    "papermill": {
     "duration": 0.006909,
     "end_time": "2023-05-13T12:59:26.537120",
     "exception": false,
     "start_time": "2023-05-13T12:59:26.530211",
     "status": "completed"
    },
    "tags": []
   },
   "source": [
    "# Question 2\n",
    "\n",
    "The list `num_customers` contains the number of customers who came into your restaurant every day over the last month (which lasted thirty days).  Fill in values for each of the following:\n",
    "- `avg_first_seven` - average number of customers who visited in the first seven days\n",
    "- `avg_last_seven` - average number of customers who visited in the last seven days\n",
    "- `max_month` - number of customers on the day that got the most customers in the last month\n",
    "- `min_month` - number of customers on the day that got the least customers in the last month\n",
    "\n",
    "Answer this question by writing code.  For instance, if you have to find the minimum value in a list, use `min()` instead of scanning for the smallest value and directly filling in a number."
   ]
  },
  {
   "cell_type": "code",
   "execution_count": 4,
   "id": "00f779b3",
   "metadata": {
    "execution": {
     "iopub.execute_input": "2023-05-13T12:59:26.551883Z",
     "iopub.status.busy": "2023-05-13T12:59:26.550537Z",
     "iopub.status.idle": "2023-05-13T12:59:26.562425Z",
     "shell.execute_reply": "2023-05-13T12:59:26.561523Z"
    },
    "papermill": {
     "duration": 0.021387,
     "end_time": "2023-05-13T12:59:26.564479",
     "exception": false,
     "start_time": "2023-05-13T12:59:26.543092",
     "status": "completed"
    },
    "tags": []
   },
   "outputs": [
    {
     "data": {
      "application/javascript": [
       "parent.postMessage({\"jupyterEvent\": \"custom.exercise_interaction\", \"data\": {\"outcomeType\": 1, \"valueTowardsCompletion\": 0.2, \"interactionType\": 1, \"questionType\": 1, \"questionId\": \"2_NumCustomers\", \"learnToolsVersion\": \"0.3.4\", \"failureMessage\": \"\", \"exceptionClass\": \"\", \"trace\": \"\"}}, \"*\")"
      ],
      "text/plain": [
       "<IPython.core.display.Javascript object>"
      ]
     },
     "metadata": {},
     "output_type": "display_data"
    },
    {
     "data": {
      "text/markdown": [
       "<span style=\"color:#33cc33\">Correct</span>"
      ],
      "text/plain": [
       "Correct"
      ]
     },
     "metadata": {},
     "output_type": "display_data"
    }
   ],
   "source": [
    "# Do not change: Number of customers each day for the last month\n",
    "num_customers = [137, 147, 135, 128, 170, 174, 165, 146, 126, 159,\n",
    "                 141, 148, 132, 147, 168, 153, 170, 161, 148, 152,\n",
    "                 141, 151, 131, 149, 164, 163, 143, 143, 166, 171]\n",
    "\n",
    "# TODO: Fill in values for the variables below\n",
    "avg_first_seven = sum(num_customers[:7]) / 7\n",
    "avg_last_seven = sum(num_customers[-7:]) / 7\n",
    "max_month = max(num_customers)\n",
    "min_month = min(num_customers)\n",
    "\n",
    "# Do not change: Check your answer\n",
    "q2.check()"
   ]
  },
  {
   "cell_type": "code",
   "execution_count": 5,
   "id": "27cfea68",
   "metadata": {
    "execution": {
     "iopub.execute_input": "2023-05-13T12:59:26.580130Z",
     "iopub.status.busy": "2023-05-13T12:59:26.579261Z",
     "iopub.status.idle": "2023-05-13T12:59:26.583693Z",
     "shell.execute_reply": "2023-05-13T12:59:26.582784Z"
    },
    "papermill": {
     "duration": 0.014473,
     "end_time": "2023-05-13T12:59:26.585762",
     "exception": false,
     "start_time": "2023-05-13T12:59:26.571289",
     "status": "completed"
    },
    "tags": []
   },
   "outputs": [],
   "source": [
    "# Uncomment to see a hint\n",
    "#q2.hint()\n",
    "\n",
    "# Uncomment to see the solution\n",
    "#q2.solution()"
   ]
  },
  {
   "cell_type": "markdown",
   "id": "fa33c04b",
   "metadata": {
    "papermill": {
     "duration": 0.005977,
     "end_time": "2023-05-13T12:59:26.598139",
     "exception": false,
     "start_time": "2023-05-13T12:59:26.592162",
     "status": "completed"
    },
    "tags": []
   },
   "source": [
    "# Question 3\n",
    "\n",
    "In the tutorial, we gave an example of a Python string with information that was better as a list."
   ]
  },
  {
   "cell_type": "code",
   "execution_count": 6,
   "id": "fa4de2b9",
   "metadata": {
    "execution": {
     "iopub.execute_input": "2023-05-13T12:59:26.612890Z",
     "iopub.status.busy": "2023-05-13T12:59:26.612046Z",
     "iopub.status.idle": "2023-05-13T12:59:26.616972Z",
     "shell.execute_reply": "2023-05-13T12:59:26.615998Z"
    },
    "papermill": {
     "duration": 0.014999,
     "end_time": "2023-05-13T12:59:26.619324",
     "exception": false,
     "start_time": "2023-05-13T12:59:26.604325",
     "status": "completed"
    },
    "tags": []
   },
   "outputs": [],
   "source": [
    "flowers = \"pink primrose,hard-leaved pocket orchid,canterbury bells,sweet pea,english marigold,tiger lily,moon orchid,bird of paradise,monkshood,globe thistle\""
   ]
  },
  {
   "cell_type": "markdown",
   "id": "e3ea1f55",
   "metadata": {
    "papermill": {
     "duration": 0.006144,
     "end_time": "2023-05-13T12:59:26.632125",
     "exception": false,
     "start_time": "2023-05-13T12:59:26.625981",
     "status": "completed"
    },
    "tags": []
   },
   "source": [
    "You can actually use Python to quickly turn this string into a list with `.split()`.  In the parentheses, we need to provide the character should be used to mark the end of one list item and the beginning of another, and enclose it in quotation marks.  In this case, that character is a comma."
   ]
  },
  {
   "cell_type": "code",
   "execution_count": 7,
   "id": "2f7e5756",
   "metadata": {
    "execution": {
     "iopub.execute_input": "2023-05-13T12:59:26.648063Z",
     "iopub.status.busy": "2023-05-13T12:59:26.647593Z",
     "iopub.status.idle": "2023-05-13T12:59:26.652938Z",
     "shell.execute_reply": "2023-05-13T12:59:26.651989Z"
    },
    "papermill": {
     "duration": 0.017111,
     "end_time": "2023-05-13T12:59:26.655487",
     "exception": false,
     "start_time": "2023-05-13T12:59:26.638376",
     "status": "completed"
    },
    "tags": []
   },
   "outputs": [
    {
     "name": "stdout",
     "output_type": "stream",
     "text": [
      "['pink primrose', 'hard-leaved pocket orchid', 'canterbury bells', 'sweet pea', 'english marigold', 'tiger lily', 'moon orchid', 'bird of paradise', 'monkshood', 'globe thistle']\n"
     ]
    }
   ],
   "source": [
    " print(flowers.split(\",\"))"
   ]
  },
  {
   "cell_type": "markdown",
   "id": "058b7716",
   "metadata": {
    "papermill": {
     "duration": 0.006103,
     "end_time": "2023-05-13T12:59:26.668036",
     "exception": false,
     "start_time": "2023-05-13T12:59:26.661933",
     "status": "completed"
    },
    "tags": []
   },
   "source": [
    "Now it is your turn to try this out!  Create two Python lists:\n",
    "- `letters` should be a Python list where each entry is an uppercase letter of the English alphabet.  For instance, the first two entries should be `\"A\"` and `\"B\"`, and the final two entries should be `\"Y\"` and `\"Z\"`.  Use the string `alphabet` to create this list.\n",
    "- `address` should be a Python list where each row in `address` is a different item in the list.  Currently, each row in `address` is separated by a comma. "
   ]
  },
  {
   "cell_type": "code",
   "execution_count": 8,
   "id": "8fa64b0b",
   "metadata": {
    "execution": {
     "iopub.execute_input": "2023-05-13T12:59:26.683285Z",
     "iopub.status.busy": "2023-05-13T12:59:26.682466Z",
     "iopub.status.idle": "2023-05-13T12:59:26.691672Z",
     "shell.execute_reply": "2023-05-13T12:59:26.690763Z"
    },
    "papermill": {
     "duration": 0.019398,
     "end_time": "2023-05-13T12:59:26.693639",
     "exception": false,
     "start_time": "2023-05-13T12:59:26.674241",
     "status": "completed"
    },
    "tags": []
   },
   "outputs": [
    {
     "data": {
      "application/javascript": [
       "parent.postMessage({\"jupyterEvent\": \"custom.exercise_interaction\", \"data\": {\"outcomeType\": 1, \"valueTowardsCompletion\": 0.2, \"interactionType\": 1, \"questionType\": 1, \"questionId\": \"3_SplitString\", \"learnToolsVersion\": \"0.3.4\", \"failureMessage\": \"\", \"exceptionClass\": \"\", \"trace\": \"\"}}, \"*\")"
      ],
      "text/plain": [
       "<IPython.core.display.Javascript object>"
      ]
     },
     "metadata": {},
     "output_type": "display_data"
    },
    {
     "data": {
      "text/markdown": [
       "<span style=\"color:#33cc33\">Correct</span>"
      ],
      "text/plain": [
       "Correct"
      ]
     },
     "metadata": {},
     "output_type": "display_data"
    }
   ],
   "source": [
    "# DO not change: Define two Python strings\n",
    "alphabet = \"A.B.C.D.E.F.G.H.I.J.K.L.M.N.O.P.Q.R.S.T.U.V.W.X.Y.Z\"\n",
    "address = \"Mr. H. Potter,The cupboard under the Stairs,4 Privet Drive,Little Whinging,Surrey\"\n",
    "\n",
    "# TODO: Convert strings into Python lists\n",
    "letters = alphabet.split(\".\")\n",
    "formatted_address = address.split(\",\")\n",
    "\n",
    "# Do not change: Check your answer\n",
    "q3.check()"
   ]
  },
  {
   "cell_type": "code",
   "execution_count": 9,
   "id": "c7db7853",
   "metadata": {
    "execution": {
     "iopub.execute_input": "2023-05-13T12:59:26.709280Z",
     "iopub.status.busy": "2023-05-13T12:59:26.708554Z",
     "iopub.status.idle": "2023-05-13T12:59:26.712768Z",
     "shell.execute_reply": "2023-05-13T12:59:26.711846Z"
    },
    "papermill": {
     "duration": 0.014288,
     "end_time": "2023-05-13T12:59:26.714704",
     "exception": false,
     "start_time": "2023-05-13T12:59:26.700416",
     "status": "completed"
    },
    "tags": []
   },
   "outputs": [],
   "source": [
    "# Uncomment to see a hint\n",
    "#q3.hint()\n",
    "\n",
    "# Uncomment to see the solution\n",
    "#q3.solution()"
   ]
  },
  {
   "cell_type": "markdown",
   "id": "baa7b1ca",
   "metadata": {
    "papermill": {
     "duration": 0.006359,
     "end_time": "2023-05-13T12:59:26.727741",
     "exception": false,
     "start_time": "2023-05-13T12:59:26.721382",
     "status": "completed"
    },
    "tags": []
   },
   "source": [
    "# Question 4\n",
    "\n",
    "In the Python course, you'll learn all about **list comprehensions**, which allow you to create a list based on the values in another list.  In this question, you'll get a brief preview of how they work.\n",
    "\n",
    "Say we're working with the list below."
   ]
  },
  {
   "cell_type": "code",
   "execution_count": 10,
   "id": "30b5ccc8",
   "metadata": {
    "execution": {
     "iopub.execute_input": "2023-05-13T12:59:26.743675Z",
     "iopub.status.busy": "2023-05-13T12:59:26.742944Z",
     "iopub.status.idle": "2023-05-13T12:59:26.747639Z",
     "shell.execute_reply": "2023-05-13T12:59:26.746692Z"
    },
    "papermill": {
     "duration": 0.015482,
     "end_time": "2023-05-13T12:59:26.749786",
     "exception": false,
     "start_time": "2023-05-13T12:59:26.734304",
     "status": "completed"
    },
    "tags": []
   },
   "outputs": [],
   "source": [
    "test_ratings = [1, 2, 3, 4, 5]"
   ]
  },
  {
   "cell_type": "markdown",
   "id": "9a3d062b",
   "metadata": {
    "papermill": {
     "duration": 0.006361,
     "end_time": "2023-05-13T12:59:26.763051",
     "exception": false,
     "start_time": "2023-05-13T12:59:26.756690",
     "status": "completed"
    },
    "tags": []
   },
   "source": [
    "Then we can use this list (`test_ratings`) to create a new list (`test_liked`) where each item has been turned into a boolean, depending on whether or not the item is greater than or equal to four."
   ]
  },
  {
   "cell_type": "code",
   "execution_count": 11,
   "id": "56910992",
   "metadata": {
    "execution": {
     "iopub.execute_input": "2023-05-13T12:59:26.777969Z",
     "iopub.status.busy": "2023-05-13T12:59:26.777571Z",
     "iopub.status.idle": "2023-05-13T12:59:26.783425Z",
     "shell.execute_reply": "2023-05-13T12:59:26.782299Z"
    },
    "papermill": {
     "duration": 0.015783,
     "end_time": "2023-05-13T12:59:26.785577",
     "exception": false,
     "start_time": "2023-05-13T12:59:26.769794",
     "status": "completed"
    },
    "tags": []
   },
   "outputs": [
    {
     "name": "stdout",
     "output_type": "stream",
     "text": [
      "[False, False, False, True, True]\n"
     ]
    }
   ],
   "source": [
    "test_liked = [i>=4 for i in test_ratings]\n",
    "print(test_liked)"
   ]
  },
  {
   "cell_type": "markdown",
   "id": "41f81863",
   "metadata": {
    "papermill": {
     "duration": 0.006488,
     "end_time": "2023-05-13T12:59:26.798788",
     "exception": false,
     "start_time": "2023-05-13T12:59:26.792300",
     "status": "completed"
    },
    "tags": []
   },
   "source": [
    "In this question, you'll use this list comprehension to define a function `percentage_liked()` that takes one argument as input:\n",
    "- `ratings`: list of ratings that people gave to a movie, where each rating is a number between 1-5, inclusive\n",
    "\n",
    "We say someone liked the movie, if they gave a rating of either 4 or 5.  Your function should return the percentage of people who liked the movie.\n",
    "\n",
    "For instance, if we supply a value of `[1, 2, 3, 4, 5, 4, 5, 1]`, then 50% (4/8) of the people liked the movie, and the function should return `0.5`.\n",
    "\n",
    "Part of the function has already been completed for you.  You need only use `list_liked` to calculate `percentage_liked`."
   ]
  },
  {
   "cell_type": "code",
   "execution_count": 12,
   "id": "35171cbf",
   "metadata": {
    "execution": {
     "iopub.execute_input": "2023-05-13T12:59:26.814368Z",
     "iopub.status.busy": "2023-05-13T12:59:26.813585Z",
     "iopub.status.idle": "2023-05-13T12:59:26.826045Z",
     "shell.execute_reply": "2023-05-13T12:59:26.824424Z"
    },
    "papermill": {
     "duration": 0.023538,
     "end_time": "2023-05-13T12:59:26.829050",
     "exception": false,
     "start_time": "2023-05-13T12:59:26.805512",
     "status": "completed"
    },
    "tags": []
   },
   "outputs": [
    {
     "data": {
      "application/javascript": [
       "parent.postMessage({\"jupyterEvent\": \"custom.exercise_interaction\", \"data\": {\"outcomeType\": 1, \"valueTowardsCompletion\": 0.2, \"interactionType\": 1, \"questionType\": 2, \"questionId\": \"4_PercentageLiked\", \"learnToolsVersion\": \"0.3.4\", \"failureMessage\": \"\", \"exceptionClass\": \"\", \"trace\": \"\"}}, \"*\")"
      ],
      "text/plain": [
       "<IPython.core.display.Javascript object>"
      ]
     },
     "metadata": {},
     "output_type": "display_data"
    },
    {
     "data": {
      "text/markdown": [
       "<span style=\"color:#33cc33\">Correct</span>"
      ],
      "text/plain": [
       "Correct"
      ]
     },
     "metadata": {},
     "output_type": "display_data"
    }
   ],
   "source": [
    "\n",
    "def percentage_liked(ratings):\n",
    "    list_liked = [i>=4 for i in ratings]\n",
    "    # TODO: Complete the function\n",
    "    percentage_liked = sum(list_liked) / len(list_liked)\n",
    "    return percentage_liked\n",
    "\n",
    "# Do not change: should return 0.5\n",
    "percentage_liked([1, 2, 3, 4, 5, 4, 5, 1])\n",
    "\n",
    "# Do not change: Check your answer\n",
    "q4.check()"
   ]
  },
  {
   "cell_type": "code",
   "execution_count": 13,
   "id": "c0dc84ba",
   "metadata": {
    "execution": {
     "iopub.execute_input": "2023-05-13T12:59:26.845234Z",
     "iopub.status.busy": "2023-05-13T12:59:26.844620Z",
     "iopub.status.idle": "2023-05-13T12:59:26.848340Z",
     "shell.execute_reply": "2023-05-13T12:59:26.847469Z"
    },
    "papermill": {
     "duration": 0.013978,
     "end_time": "2023-05-13T12:59:26.850171",
     "exception": false,
     "start_time": "2023-05-13T12:59:26.836193",
     "status": "completed"
    },
    "tags": []
   },
   "outputs": [],
   "source": [
    "# Uncomment to see a hint\n",
    "#q4.hint()\n",
    "\n",
    "# Uncomment to see the solution\n",
    "#q4.solution()"
   ]
  },
  {
   "cell_type": "markdown",
   "id": "4de9590b",
   "metadata": {
    "papermill": {
     "duration": 0.006674,
     "end_time": "2023-05-13T12:59:26.863937",
     "exception": false,
     "start_time": "2023-05-13T12:59:26.857263",
     "status": "completed"
    },
    "tags": []
   },
   "source": [
    "# 🌶️ Question 5\n",
    " \n",
    "Say you're doing analytics for a website.  You need to write a function that returns the percentage growth in the total number of users relative to a specified number of years ago.\n",
    "\n",
    "Your function `percentage_growth()` should take two arguments as input:\n",
    "- `num_users` = Python list with the total number of users each year.  So `num_users[0]` is the total number of users in the first year, `num_users[1]` is the total number of users in the second year, and so on.  The final entry in the list gives the total number of users in the most recently completed year.\n",
    "- `yrs_ago` = number of years to go back in time when calculating the growth percentage\n",
    "\n",
    "For instance, say `num_users = [920344, 1043553, 1204334, 1458996, 1503323, 1593432, 1623463, 1843064, 1930992, 2001078]`.\n",
    "- if `yrs_ago = 1`, we want the function to return a value of about `0.036`. This corresponds to a percentage growth of approximately 3.6%, calculated as (2001078 - 1930992)/1930992.\n",
    "- if `years_ago = 7`, we would want to return approximately `0.66`.  This corresponds to a percentage growth of approximately 66%, calculated as (2001078 - 1204334)/1204334.\n",
    "\n",
    "Your coworker sent you a draft of a function, but it doesn't seem to be doing the correct calculation.  Can you figure out what has gone wrong and make the needed changes?"
   ]
  },
  {
   "cell_type": "code",
   "execution_count": 14,
   "id": "4765147c",
   "metadata": {
    "execution": {
     "iopub.execute_input": "2023-05-13T12:59:26.879598Z",
     "iopub.status.busy": "2023-05-13T12:59:26.879027Z",
     "iopub.status.idle": "2023-05-13T12:59:26.888664Z",
     "shell.execute_reply": "2023-05-13T12:59:26.887656Z"
    },
    "papermill": {
     "duration": 0.020138,
     "end_time": "2023-05-13T12:59:26.890872",
     "exception": false,
     "start_time": "2023-05-13T12:59:26.870734",
     "status": "completed"
    },
    "tags": []
   },
   "outputs": [
    {
     "name": "stdout",
     "output_type": "stream",
     "text": [
      "0.0\n",
      "0.2807272117129434\n"
     ]
    },
    {
     "data": {
      "application/javascript": [
       "parent.postMessage({\"jupyterEvent\": \"custom.exercise_interaction\", \"data\": {\"outcomeType\": 2, \"failureMessage\": \"Expected return value of `0.03629533421163837` given `num_users=[920344, 1043553, 1204334, 1458996, 1503323, 1593432, 1623463, 1843064, 1930992, 2001078]`, `yrs_ago=1`, but got `0.0` instead.\", \"interactionType\": 1, \"questionType\": 2, \"questionId\": \"5_WebsiteAnalytics\", \"learnToolsVersion\": \"0.3.4\", \"valueTowardsCompletion\": 0.0, \"exceptionClass\": \"\", \"trace\": \"\"}}, \"*\")"
      ],
      "text/plain": [
       "<IPython.core.display.Javascript object>"
      ]
     },
     "metadata": {},
     "output_type": "display_data"
    },
    {
     "data": {
      "text/markdown": [
       "<span style=\"color:#cc3333\">Incorrect:</span> Expected return value of `0.03629533421163837` given `num_users=[920344, 1043553, 1204334, 1458996, 1503323, 1593432, 1623463, 1843064, 1930992, 2001078]`, `yrs_ago=1`, but got `0.0` instead."
      ],
      "text/plain": [
       "Incorrect: Expected return value of `0.03629533421163837` given `num_users=[920344, 1043553, 1204334, 1458996, 1503323, 1593432, 1623463, 1843064, 1930992, 2001078]`, `yrs_ago=1`, but got `0.0` instead."
      ]
     },
     "metadata": {},
     "output_type": "display_data"
    }
   ],
   "source": [
    "# TODO: Edit the function\n",
    "def percentage_growth(num_users, yrs_ago):\n",
    "    growth = (num_users[len(num_users)-1] - num_users[len(num_users)-yrs_ago])/num_users[len(num_users)-2]\n",
    "    return growth\n",
    "\n",
    "# Do not change: Variable for calculating some test examples\n",
    "num_users_test = [920344, 1043553, 1204334, 1458996, 1503323, 1593432, 1623463, 1843064, 1930992, 2001078]\n",
    "\n",
    "# Do not change: Should return .036\n",
    "print(percentage_growth(num_users_test, 1))\n",
    "\n",
    "# Do not change: Should return 0.66\n",
    "print(percentage_growth(num_users_test, 7))\n",
    "\n",
    "# Do not change: Check your answer\n",
    "q5.check()"
   ]
  },
  {
   "cell_type": "code",
   "execution_count": 15,
   "id": "ea871568",
   "metadata": {
    "execution": {
     "iopub.execute_input": "2023-05-13T12:59:26.908108Z",
     "iopub.status.busy": "2023-05-13T12:59:26.907195Z",
     "iopub.status.idle": "2023-05-13T12:59:26.912030Z",
     "shell.execute_reply": "2023-05-13T12:59:26.911125Z"
    },
    "papermill": {
     "duration": 0.015731,
     "end_time": "2023-05-13T12:59:26.914071",
     "exception": false,
     "start_time": "2023-05-13T12:59:26.898340",
     "status": "completed"
    },
    "tags": []
   },
   "outputs": [],
   "source": [
    "# Uncomment to see a hint\n",
    "#q5.hint()\n",
    "\n",
    "# Uncomment to see the solution\n",
    "#q5.solution()"
   ]
  },
  {
   "cell_type": "markdown",
   "id": "1b0285f6",
   "metadata": {
    "papermill": {
     "duration": 0.007294,
     "end_time": "2023-05-13T12:59:26.928780",
     "exception": false,
     "start_time": "2023-05-13T12:59:26.921486",
     "status": "completed"
    },
    "tags": []
   },
   "source": [
    "# Congratulations!\n",
    "\n",
    "Congratulations for finishing the Intro to Programming course!  You should be proud of your very first steps with learning programming.  As next steps, we recommend taking:\n",
    "- the **[Python course](http://www.kaggle.com/learn/python)**, and \n",
    "- the **[Intro to Machine Learning course](https://www.kaggle.com/learn/intro-to-machine-learning)**."
   ]
  },
  {
   "cell_type": "markdown",
   "id": "8edd6dc5",
   "metadata": {
    "papermill": {
     "duration": 0.007098,
     "end_time": "2023-05-13T12:59:26.943243",
     "exception": false,
     "start_time": "2023-05-13T12:59:26.936145",
     "status": "completed"
    },
    "tags": []
   },
   "source": [
    "---\n",
    "\n",
    "\n",
    "\n",
    "\n",
    "*Have questions or comments? Visit the [course discussion forum](https://www.kaggle.com/learn/intro-to-programming/discussion) to chat with other learners.*"
   ]
  }
 ],
 "metadata": {
  "kernelspec": {
   "display_name": "Python 3",
   "language": "python",
   "name": "python3"
  },
  "language_info": {
   "codemirror_mode": {
    "name": "ipython",
    "version": 3
   },
   "file_extension": ".py",
   "mimetype": "text/x-python",
   "name": "python",
   "nbconvert_exporter": "python",
   "pygments_lexer": "ipython3",
   "version": "3.10.10"
  },
  "papermill": {
   "default_parameters": {},
   "duration": 11.860026,
   "end_time": "2023-05-13T12:59:27.974971",
   "environment_variables": {},
   "exception": null,
   "input_path": "__notebook__.ipynb",
   "output_path": "__notebook__.ipynb",
   "parameters": {},
   "start_time": "2023-05-13T12:59:16.114945",
   "version": "2.4.0"
  }
 },
 "nbformat": 4,
 "nbformat_minor": 5
}
